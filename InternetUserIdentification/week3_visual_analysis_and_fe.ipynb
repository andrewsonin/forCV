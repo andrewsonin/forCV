{
 "cells": [
  {
   "cell_type": "markdown",
   "metadata": {},
   "source": [
    "<center>\n",
    "<img src=\"https://habrastorage.org/web/677/8e1/337/6778e1337c3d4b159d7e99df94227cb2.jpg\"/>\n",
    "## Специализация \"Машинное обучение и анализ данных\"\n",
    "<center>Автор материала: программист-исследователь Mail.Ru Group, старший преподаватель Факультета Компьютерных Наук ВШЭ [Юрий Кашницкий](https://yorko.github.io/)"
   ]
  },
  {
   "cell_type": "markdown",
   "metadata": {},
   "source": [
    "# <center>  Capstone проект №1 <br> Идентификация пользователей по посещенным веб-страницам\n",
    "<img src='http://i.istockimg.com/file_thumbview_approve/21546327/5/stock-illustration-21546327-identification-de-l-utilisateur.jpg'>\n",
    "\n",
    "# <center>Неделя 3. Визуальный анализ данных и построение признаков\n",
    "\n",
    "На 3 неделе мы займемся визуальным анализом данных и построением признаков. Сначала мы вместе построим и проанализируем несколько признаков, потом Вы сможете сами придумать и описать различные признаки. \n",
    "\n",
    "**План 3 недели:**\n",
    " - Часть 1. Построение признаков\n",
    " - Часть 2. Визуальный анализ данных\n",
    " - Часть 3. Дальнейшее построение признаков\n",
    " - Часть 4. Проверка построенных признаков\n",
    "\n",
    "**В этой части проекта Вам могут быть полезны видеозаписи следующих лекций курса \"Поиск структуры в данных\":**\n",
    "   - [Задача визуализации](https://www.coursera.org/learn/unsupervised-learning/lecture/hlvlT/zadacha-vizualizatsii)\n",
    "   - [Визуализация данных в sklearn](https://www.coursera.org/learn/unsupervised-learning/lecture/ityMo/vizualizatsiia-dannykh-v-sklearn)\n",
    "   \n",
    "**Также в задании будет использоваться библиотека Seaborn (ее можно дополнительно установить командой *pip install seaborn*), будет полезно обращаться к документациям [Matplotlib](http://matplotlib.org/users/) и [Seaborn](http://seaborn.pydata.org/), а также к примерам визуализации, описанным на StackOverflow.**\n",
    "\n"
   ]
  },
  {
   "cell_type": "markdown",
   "metadata": {},
   "source": [
    "### Задание\n",
    "1. Заполните код в этой тетрадке \n",
    "2. Если вы проходите специализацию Яндеса и МФТИ, пошлите тетрадку в соответствующем Peer Review. <br> Если вы проходите курс ODS, выберите ответы в [веб-форме](https://docs.google.com/forms/d/1EbjK7-hF-Gepi6RH-K5I2XeiYGRoY0LNDx03QmLu9Xo). "
   ]
  },
  {
   "cell_type": "markdown",
   "metadata": {},
   "source": [
    "## Часть 1. Построение признаков"
   ]
  },
  {
   "cell_type": "code",
   "execution_count": 1,
   "metadata": {},
   "outputs": [],
   "source": [
    "import os\n",
    "import copy\n",
    "import pickle\n",
    "import typing\n",
    "import itertools\n",
    "import functools\n",
    "import heapq\n",
    "import operator\n",
    "import collections\n",
    "from glob import glob, iglob\n",
    "\n",
    "import numpy as np\n",
    "import pandas as pd\n",
    "import seaborn as sns\n",
    "import scipy\n",
    "\n",
    "from tqdm import tqdm_notebook\n",
    "from scipy.sparse import csr_matrix\n",
    "from scipy import stats\n",
    "from statsmodels.stats.proportion import proportion_confint\n",
    "from matplotlib import pyplot as plt\n",
    "\n",
    "%matplotlib inline\n",
    "pd.set_option('display.max.columns', 25)"
   ]
  },
  {
   "cell_type": "code",
   "execution_count": 2,
   "metadata": {},
   "outputs": [],
   "source": [
    "PATH_TO_DATA = 'Data/Raw/'\n",
    "PATH_TO_PICKLED = 'Data/Pickled/'\n",
    "PATH_TO_MERGED = 'Data/Merged/'\n",
    "PATH_TO_ANSWERS = 'Answers/'"
   ]
  },
  {
   "cell_type": "markdown",
   "metadata": {},
   "source": [
    "**Создайте на основе функций *prepare_train_set* и *prepare_sparse_train_set_window*  новую – *prepare_train_set_with_fe*, (от \"feature engineering\"), создайте следующие признаки:**\n",
    "- `session_timespan` – продолжительность сессии (разница между максимальным и минимальным временем посещения сайтов в сессии, в секундах)\n",
    "- `#unique_sites` – число уникальных сайтов в сессии \n",
    "- `start_hour` – час начала сессии (то есть час в записи минимального timestamp среди десяти)\n",
    "- `day_of_week` – день недели (то есть день недели в записи минимального timestamp среди десяти)\n",
    "\n",
    "Функция должна возвращать новый DataFrame (как возвращала функция *prepare_train_set*), только признаков должно быть на 4 больше. Порядок, в котором добавляются признаки: *site1*, ... *site10*, *session_timespan*, *#unique_sites*, *start_hour*, *day_of_week* и *user_id* (это видно и чуть ниже по тому, как функция вызывается)."
   ]
  },
  {
   "cell_type": "code",
   "execution_count": 3,
   "metadata": {},
   "outputs": [],
   "source": [
    "class __RollingWindowIterator:\n",
    "    def __init__(self, iterable: typing.Iterable, window_size: int, rolling_step: int) -> type(None):\n",
    "        if not 1 <= rolling_step <= window_size:\n",
    "            raise IndexError(\"'rolling_step' should not be greater than 'size' or lower that 1\")\n",
    "\n",
    "        self.it = iter(iterable)\n",
    "        self.rolling_step = rolling_step\n",
    "        self.window_size = window_size\n",
    "\n",
    "        self.buffered_it = None\n",
    "        self.i = 0\n",
    "\n",
    "    def __next__(self) -> typing.Iterator:\n",
    "        if self.i == self.rolling_step:\n",
    "            self.buffered_it = copy.copy(self.it)\n",
    "        if self.i != self.window_size:\n",
    "            self.i += 1\n",
    "        else:\n",
    "            self.i = 1\n",
    "            self.it = self.buffered_it\n",
    "        return next(self.it)\n",
    "\n",
    "    def __iter__(self) -> '__RollingWindowIterator':\n",
    "        return self\n",
    "\n",
    "\n",
    "def split_to_equally_sized(sequence: typing.Sequence,\n",
    "                           size: int,\n",
    "                           rolling_step: typing.Optional[int] = None,\n",
    "                           padvalue: typing.Any = None) -> typing.Iterable[typing.Sequence]:\n",
    "    \"\"\"\n",
    "    Splits an iterable type to equally sized tuples, and if the last chunk appears to be incomplete,\n",
    "    pads it with the value specified.\n",
    "\n",
    "    Examples:\n",
    "    1)  list(split_to_equally_sized(['a', 'b', 'c', 'd', 'e', 'f', 'g'], 3, padvalue='padval'))\n",
    "        >>> [('a', None, 42443), (-1, 'e', 'f'), ('g', 'padval', 'padval')]\n",
    "    2)  list(split_to_equally_sized(['a', None, 42443, -1, 'e', 'f', 'g'], 4, 2, 'padval'))\n",
    "        >>> [('a', None, 42443, -1),\n",
    "             (42443, -1, 'e', 'f'),\n",
    "             ('e', 'f', 'g', 'padval'),\n",
    "             ('g', 'padval', 'padval', 'padval')]\n",
    "\n",
    "    Args:\n",
    "        iterable:      any iterable you want to split\n",
    "        size:          chunk size\n",
    "        rolling_step:  chunk start shift step. Should be >= 1 and <= 'size'. See the second example for clarity.\n",
    "\n",
    "                       If not specified, the chunks do not intersect,\n",
    "                       and the behavior is equal to the case where 'rolling_step' equals to 'size'.\n",
    "\n",
    "                       --- Attention! ---\n",
    "                       Specifying this parameter greatly slows down the function.\n",
    "                       For example:\n",
    "                       1)  list(split_to_equally_sized(iterable, size, padvalue=padvalue))\n",
    "                       2)  list(split_to_equally_sized(iterable, size, size - 1, padvalue=padvalue))\n",
    "                       Although the result is nearly the same, the second option is about 100 times slower.\n",
    "\n",
    "        padvalue:      padding value to fill incomplete chunks\n",
    "                       (that exist if the total number of iterations of 'iterable' is not divisible by 'size')\n",
    "    Returns:\n",
    "        itertools.zip_longest generator (that can later be calculated on the fly)\n",
    "    \"\"\"\n",
    "\n",
    "    if isinstance(sequence, (pd.Series, pd.DataFrame)):\n",
    "        sequence = sequence.values\n",
    "    iterator = (iter(sequence) if not rolling_step or rolling_step == size\n",
    "                else __RollingWindowIterator(sequence, size, rolling_step))\n",
    "\n",
    "    return itertools.zip_longest(*((iterator,) * size), fillvalue=padvalue)"
   ]
  },
  {
   "cell_type": "code",
   "execution_count": 4,
   "metadata": {},
   "outputs": [],
   "source": [
    "def __read_user_csv(file_name_and_user_ID: typing.Tuple[str, int]) -> pd.DataFrame:\n",
    "    file_name, user_id = file_name_and_user_ID\n",
    "    df = pd.read_csv(file_name, infer_datetime_format=True, parse_dates=['timestamp'])\n",
    "    df['diffs'] = df['timestamp'].diff().fillna(pd.Timedelta(0)).dt.total_seconds().astype(int)\n",
    "    df.index = np.repeat(user_id, df.shape[0])\n",
    "    return df\n",
    "\n",
    "\n",
    "__user_info_dict = typing.Mapping[str, typing.Tuple[int, int]]\n",
    "\n",
    "\n",
    "def prepare_train_set(path_to_csv_files: str,\n",
    "                      session_length: int = 10) -> typing.Tuple[pd.DataFrame, __user_info_dict]:\n",
    "\n",
    "    user_csvs_and_IDs = sorted(\n",
    "        map(lambda x: (x, int(x.split('/')[-1][4:-4])), iglob(os.path.join(path_to_csv_files, '*.csv'))),\n",
    "        key=lambda x: x[1]\n",
    "    )\n",
    "\n",
    "    user_history = pd.concat(map(__read_user_csv, user_csvs_and_IDs))\n",
    "\n",
    "    __site_counts = user_history['site'].value_counts()\n",
    "    __site_IDs = pd.Series(\n",
    "        index=__site_counts.index,\n",
    "        data=range(1, len(__site_counts) + 1)\n",
    "    )\n",
    "\n",
    "    user_history = pd.Series(\n",
    "        index=user_history.index,\n",
    "        data=__site_IDs[user_history['site']].values\n",
    "    )\n",
    "    session_histories = tuple(\n",
    "        (*session, user_ID)\n",
    "        for user_ID, cur_user_history in user_history.groupby(user_history.index)\n",
    "        for session in split_to_equally_sized(\n",
    "            cur_user_history,\n",
    "            session_length,\n",
    "            padvalue=0\n",
    "        )\n",
    "    )\n",
    "    session_histories = pd.DataFrame(\n",
    "        data=session_histories,\n",
    "        columns=['site' + str(i) for i in range(1, session_length + 1)] + ['user_id']\n",
    "    )\n",
    "    session_histories.index.name = 'session_id'\n",
    "\n",
    "    site_stats = dict(zip(__site_counts.index, zip(__site_IDs.values, __site_counts.values)))\n",
    "\n",
    "    return session_histories, site_stats\n",
    "\n",
    "\n",
    "def construct_csr_matrix(session_matrix: typing.Iterable[typing.Iterable[int]]) -> scipy.sparse.csr.csr_matrix:\n",
    "    site_counts, session_IDs, site_IDs = zip(\n",
    "        *(\n",
    "            (site_count, session_ID, site_ID - 1)\n",
    "            for session_ID, site_counts_for_session in enumerate(map(collections.Counter, session_matrix))\n",
    "            for site_ID, site_count in site_counts_for_session.items()\n",
    "            if site_ID != 0\n",
    "        )\n",
    "    )\n",
    "    return csr_matrix((site_counts, (session_IDs, site_IDs)))\n",
    "\n",
    "\n",
    "def __find_unique_site_IDs_count(array: typing.Sequence[int]) -> int:\n",
    "    __set = set(array)\n",
    "    __set.discard(0)\n",
    "    return len(__set)\n",
    "\n",
    "\n",
    "def prepare_train_set_with_fe(path_to_csv_files: str,\n",
    "                              site_freq_path: str,\n",
    "                              feature_names: typing.Sequence[str],\n",
    "                              session_length: int = 10,\n",
    "                              window_size: int = 10) -> pd.DataFrame:\n",
    "    with open(site_freq_path, 'rb') as dump_file:\n",
    "        site_name_to_ID_and_freq = pickle.load(dump_file)\n",
    "\n",
    "    site_name_to_ID = pd.Series(\n",
    "        index=site_name_to_ID_and_freq.keys(),\n",
    "        data=next(zip(*site_name_to_ID_and_freq.values()))\n",
    "    )\n",
    "\n",
    "    __user_csvs_and_IDs = sorted(\n",
    "        map(lambda x: (x, int(x.split('/')[-1][4:-4])), iglob(os.path.join(path_to_csv_files, '*.csv'))),\n",
    "        key=lambda x: x[1]\n",
    "    )\n",
    "    user_history = pd.concat(map(__read_user_csv, __user_csvs_and_IDs))\n",
    "    user_history['site'] = pd.Series(\n",
    "        index=user_history.index,\n",
    "        data=site_name_to_ID[user_history['site']].values\n",
    "    )\n",
    "\n",
    "    user_ID_for_session = []\n",
    "    def callback(session: typing.Sequence[int], user_ID: int) -> typing.Sequence[int]:\n",
    "        \"\"\"\n",
    "        Returns the history sequence for the current session,\n",
    "        storing the corresponding user_ID in the 'user_ID_for_session'\n",
    "        \"\"\"\n",
    "        user_ID_for_session.append(user_ID)\n",
    "        return session\n",
    "\n",
    "    session_histories = np.array(\n",
    "        tuple(\n",
    "            callback(session, user_ID)\n",
    "            for user_ID, cur_user_history in user_history.groupby(user_history.index)\n",
    "            for session in split_to_equally_sized(\n",
    "                cur_user_history,\n",
    "                session_length,\n",
    "                window_size,\n",
    "                padvalue=(pd.NaT, 0, 0)\n",
    "            )\n",
    "        )\n",
    "    )\n",
    "    starting_timestamps = tuple(session_histories[:,0,0])\n",
    "    site_ID_matrix = session_histories[:,:,1].astype(int)\n",
    "    timediffs_matrix = session_histories[:,1:,2].astype(int)\n",
    "\n",
    "    total_timediff = timediffs_matrix.sum(1)\n",
    "    unique_sites = np.fromiter(map(__find_unique_site_IDs_count, site_ID_matrix), dtype=np.int)\n",
    "    start_hours, days_of_week = zip(*map(lambda x: (x.hour, x.weekday()), starting_timestamps))\n",
    "\n",
    "    user_ID_for_session = user_ID_for_session\n",
    "\n",
    "    data = (*site_ID_matrix.T, *timediffs_matrix.T, total_timediff, unique_sites,\n",
    "            start_hours, days_of_week, user_ID_for_session, starting_timestamps)\n",
    "    data = dict(zip(feature_names + ['start_time'], data))\n",
    "    return pd.DataFrame(data)"
   ]
  },
  {
   "cell_type": "markdown",
   "metadata": {},
   "source": [
    "**Проверим функцию на игрушечном примере.**"
   ]
  },
  {
   "cell_type": "code",
   "execution_count": 5,
   "metadata": {},
   "outputs": [],
   "source": [
    "feature_names = ['site' + str(i) for i in range(1,11)] + \\\n",
    "                ['time_diff' + str(j) for j in range(1,10)] + \\\n",
    "                ['session_timespan', '#unique_sites', 'start_hour', \n",
    "                 'day_of_week', 'target']"
   ]
  },
  {
   "cell_type": "code",
   "execution_count": 6,
   "metadata": {},
   "outputs": [
    {
     "name": "stdout",
     "output_type": "stream",
     "text": [
      "CPU times: user 17.6 ms, sys: 1.76 ms, total: 19.3 ms\n",
      "Wall time: 19.6 ms\n"
     ]
    }
   ],
   "source": [
    "%%time\n",
    "train_data_toy = prepare_train_set_with_fe(\n",
    "    os.path.join(PATH_TO_DATA, '3users'),\n",
    "    site_freq_path=os.path.join(PATH_TO_PICKLED, 'site_freq_3users.pkl'),\n",
    "    feature_names=feature_names,\n",
    "    session_length=10\n",
    ")"
   ]
  },
  {
   "cell_type": "code",
   "execution_count": 7,
   "metadata": {},
   "outputs": [
    {
     "data": {
      "text/html": [
       "<div>\n",
       "<style scoped>\n",
       "    .dataframe tbody tr th:only-of-type {\n",
       "        vertical-align: middle;\n",
       "    }\n",
       "\n",
       "    .dataframe tbody tr th {\n",
       "        vertical-align: top;\n",
       "    }\n",
       "\n",
       "    .dataframe thead th {\n",
       "        text-align: right;\n",
       "    }\n",
       "</style>\n",
       "<table border=\"1\" class=\"dataframe\">\n",
       "  <thead>\n",
       "    <tr style=\"text-align: right;\">\n",
       "      <th></th>\n",
       "      <th>site1</th>\n",
       "      <th>site2</th>\n",
       "      <th>site3</th>\n",
       "      <th>site4</th>\n",
       "      <th>site5</th>\n",
       "      <th>site6</th>\n",
       "      <th>site7</th>\n",
       "      <th>site8</th>\n",
       "      <th>site9</th>\n",
       "      <th>site10</th>\n",
       "      <th>time_diff1</th>\n",
       "      <th>time_diff2</th>\n",
       "      <th>time_diff3</th>\n",
       "      <th>time_diff4</th>\n",
       "      <th>time_diff5</th>\n",
       "      <th>time_diff6</th>\n",
       "      <th>time_diff7</th>\n",
       "      <th>time_diff8</th>\n",
       "      <th>time_diff9</th>\n",
       "      <th>session_timespan</th>\n",
       "      <th>#unique_sites</th>\n",
       "      <th>start_hour</th>\n",
       "      <th>day_of_week</th>\n",
       "      <th>target</th>\n",
       "      <th>start_time</th>\n",
       "    </tr>\n",
       "  </thead>\n",
       "  <tbody>\n",
       "    <tr>\n",
       "      <th>0</th>\n",
       "      <td>4</td>\n",
       "      <td>2</td>\n",
       "      <td>2</td>\n",
       "      <td>11</td>\n",
       "      <td>2</td>\n",
       "      <td>1</td>\n",
       "      <td>10</td>\n",
       "      <td>6</td>\n",
       "      <td>9</td>\n",
       "      <td>7</td>\n",
       "      <td>287</td>\n",
       "      <td>1184</td>\n",
       "      <td>6278</td>\n",
       "      <td>186</td>\n",
       "      <td>2</td>\n",
       "      <td>1</td>\n",
       "      <td>2</td>\n",
       "      <td>3</td>\n",
       "      <td>55</td>\n",
       "      <td>7998</td>\n",
       "      <td>8</td>\n",
       "      <td>9</td>\n",
       "      <td>4</td>\n",
       "      <td>1</td>\n",
       "      <td>2013-11-15 09:28:17</td>\n",
       "    </tr>\n",
       "    <tr>\n",
       "      <th>1</th>\n",
       "      <td>4</td>\n",
       "      <td>1</td>\n",
       "      <td>1</td>\n",
       "      <td>1</td>\n",
       "      <td>0</td>\n",
       "      <td>0</td>\n",
       "      <td>0</td>\n",
       "      <td>0</td>\n",
       "      <td>0</td>\n",
       "      <td>0</td>\n",
       "      <td>2</td>\n",
       "      <td>3</td>\n",
       "      <td>55</td>\n",
       "      <td>0</td>\n",
       "      <td>0</td>\n",
       "      <td>0</td>\n",
       "      <td>0</td>\n",
       "      <td>0</td>\n",
       "      <td>0</td>\n",
       "      <td>60</td>\n",
       "      <td>2</td>\n",
       "      <td>12</td>\n",
       "      <td>4</td>\n",
       "      <td>1</td>\n",
       "      <td>2013-11-15 12:40:35</td>\n",
       "    </tr>\n",
       "    <tr>\n",
       "      <th>2</th>\n",
       "      <td>4</td>\n",
       "      <td>2</td>\n",
       "      <td>5</td>\n",
       "      <td>5</td>\n",
       "      <td>2</td>\n",
       "      <td>0</td>\n",
       "      <td>0</td>\n",
       "      <td>0</td>\n",
       "      <td>0</td>\n",
       "      <td>0</td>\n",
       "      <td>287</td>\n",
       "      <td>1184</td>\n",
       "      <td>6278</td>\n",
       "      <td>186</td>\n",
       "      <td>0</td>\n",
       "      <td>0</td>\n",
       "      <td>0</td>\n",
       "      <td>0</td>\n",
       "      <td>0</td>\n",
       "      <td>7935</td>\n",
       "      <td>3</td>\n",
       "      <td>9</td>\n",
       "      <td>4</td>\n",
       "      <td>2</td>\n",
       "      <td>2013-11-15 09:28:17</td>\n",
       "    </tr>\n",
       "    <tr>\n",
       "      <th>3</th>\n",
       "      <td>3</td>\n",
       "      <td>1</td>\n",
       "      <td>2</td>\n",
       "      <td>1</td>\n",
       "      <td>2</td>\n",
       "      <td>1</td>\n",
       "      <td>1</td>\n",
       "      <td>6</td>\n",
       "      <td>8</td>\n",
       "      <td>3</td>\n",
       "      <td>287</td>\n",
       "      <td>1184</td>\n",
       "      <td>6278</td>\n",
       "      <td>186</td>\n",
       "      <td>2</td>\n",
       "      <td>1</td>\n",
       "      <td>2</td>\n",
       "      <td>3</td>\n",
       "      <td>55</td>\n",
       "      <td>7998</td>\n",
       "      <td>5</td>\n",
       "      <td>9</td>\n",
       "      <td>4</td>\n",
       "      <td>3</td>\n",
       "      <td>2013-11-15 09:28:17</td>\n",
       "    </tr>\n",
       "    <tr>\n",
       "      <th>4</th>\n",
       "      <td>3</td>\n",
       "      <td>1</td>\n",
       "      <td>2</td>\n",
       "      <td>0</td>\n",
       "      <td>0</td>\n",
       "      <td>0</td>\n",
       "      <td>0</td>\n",
       "      <td>0</td>\n",
       "      <td>0</td>\n",
       "      <td>0</td>\n",
       "      <td>287</td>\n",
       "      <td>1184</td>\n",
       "      <td>0</td>\n",
       "      <td>0</td>\n",
       "      <td>0</td>\n",
       "      <td>0</td>\n",
       "      <td>0</td>\n",
       "      <td>0</td>\n",
       "      <td>0</td>\n",
       "      <td>1471</td>\n",
       "      <td>3</td>\n",
       "      <td>12</td>\n",
       "      <td>4</td>\n",
       "      <td>3</td>\n",
       "      <td>2013-11-15 12:28:17</td>\n",
       "    </tr>\n",
       "  </tbody>\n",
       "</table>\n",
       "</div>"
      ],
      "text/plain": [
       "   site1  site2  site3  site4  site5  site6  site7  site8  site9  site10  \\\n",
       "0      4      2      2     11      2      1     10      6      9       7   \n",
       "1      4      1      1      1      0      0      0      0      0       0   \n",
       "2      4      2      5      5      2      0      0      0      0       0   \n",
       "3      3      1      2      1      2      1      1      6      8       3   \n",
       "4      3      1      2      0      0      0      0      0      0       0   \n",
       "\n",
       "   time_diff1  time_diff2  time_diff3  time_diff4  time_diff5  time_diff6  \\\n",
       "0         287        1184        6278         186           2           1   \n",
       "1           2           3          55           0           0           0   \n",
       "2         287        1184        6278         186           0           0   \n",
       "3         287        1184        6278         186           2           1   \n",
       "4         287        1184           0           0           0           0   \n",
       "\n",
       "   time_diff7  time_diff8  time_diff9  session_timespan  #unique_sites  \\\n",
       "0           2           3          55              7998              8   \n",
       "1           0           0           0                60              2   \n",
       "2           0           0           0              7935              3   \n",
       "3           2           3          55              7998              5   \n",
       "4           0           0           0              1471              3   \n",
       "\n",
       "   start_hour  day_of_week  target          start_time  \n",
       "0           9            4       1 2013-11-15 09:28:17  \n",
       "1          12            4       1 2013-11-15 12:40:35  \n",
       "2           9            4       2 2013-11-15 09:28:17  \n",
       "3           9            4       3 2013-11-15 09:28:17  \n",
       "4          12            4       3 2013-11-15 12:28:17  "
      ]
     },
     "execution_count": 7,
     "metadata": {},
     "output_type": "execute_result"
    }
   ],
   "source": [
    "train_data_toy"
   ]
  },
  {
   "cell_type": "markdown",
   "metadata": {},
   "source": [
    "**Примените функцию *prepare_train_set_with_fe* к данным по 10 пользователям, укажите *session_length*=10.**"
   ]
  },
  {
   "cell_type": "code",
   "execution_count": 8,
   "metadata": {},
   "outputs": [
    {
     "name": "stdout",
     "output_type": "stream",
     "text": [
      "CPU times: user 1.23 s, sys: 48.3 ms, total: 1.28 s\n",
      "Wall time: 1.28 s\n"
     ]
    }
   ],
   "source": [
    "%%time\n",
    "train_data_10users = prepare_train_set_with_fe(\n",
    "    os.path.join(PATH_TO_DATA, '10users'),\n",
    "    os.path.join(PATH_TO_PICKLED, 'site_freq_10users.pkl'),\n",
    "    feature_names=feature_names,\n",
    "    session_length=10\n",
    ")"
   ]
  },
  {
   "cell_type": "code",
   "execution_count": 9,
   "metadata": {},
   "outputs": [
    {
     "data": {
      "text/html": [
       "<div>\n",
       "<style scoped>\n",
       "    .dataframe tbody tr th:only-of-type {\n",
       "        vertical-align: middle;\n",
       "    }\n",
       "\n",
       "    .dataframe tbody tr th {\n",
       "        vertical-align: top;\n",
       "    }\n",
       "\n",
       "    .dataframe thead th {\n",
       "        text-align: right;\n",
       "    }\n",
       "</style>\n",
       "<table border=\"1\" class=\"dataframe\">\n",
       "  <thead>\n",
       "    <tr style=\"text-align: right;\">\n",
       "      <th></th>\n",
       "      <th>site1</th>\n",
       "      <th>site2</th>\n",
       "      <th>site3</th>\n",
       "      <th>site4</th>\n",
       "      <th>site5</th>\n",
       "      <th>site6</th>\n",
       "      <th>site7</th>\n",
       "      <th>site8</th>\n",
       "      <th>site9</th>\n",
       "      <th>site10</th>\n",
       "      <th>time_diff1</th>\n",
       "      <th>time_diff2</th>\n",
       "      <th>time_diff3</th>\n",
       "      <th>time_diff4</th>\n",
       "      <th>time_diff5</th>\n",
       "      <th>time_diff6</th>\n",
       "      <th>time_diff7</th>\n",
       "      <th>time_diff8</th>\n",
       "      <th>time_diff9</th>\n",
       "      <th>session_timespan</th>\n",
       "      <th>#unique_sites</th>\n",
       "      <th>start_hour</th>\n",
       "      <th>day_of_week</th>\n",
       "      <th>target</th>\n",
       "      <th>start_time</th>\n",
       "    </tr>\n",
       "  </thead>\n",
       "  <tbody>\n",
       "    <tr>\n",
       "      <th>0</th>\n",
       "      <td>193</td>\n",
       "      <td>576</td>\n",
       "      <td>134</td>\n",
       "      <td>3</td>\n",
       "      <td>134</td>\n",
       "      <td>134</td>\n",
       "      <td>3</td>\n",
       "      <td>134</td>\n",
       "      <td>203</td>\n",
       "      <td>134</td>\n",
       "      <td>10</td>\n",
       "      <td>0</td>\n",
       "      <td>0</td>\n",
       "      <td>1</td>\n",
       "      <td>20</td>\n",
       "      <td>1</td>\n",
       "      <td>0</td>\n",
       "      <td>1</td>\n",
       "      <td>0</td>\n",
       "      <td>33</td>\n",
       "      <td>5</td>\n",
       "      <td>8</td>\n",
       "      <td>4</td>\n",
       "      <td>31</td>\n",
       "      <td>2013-11-15 08:12:07</td>\n",
       "    </tr>\n",
       "    <tr>\n",
       "      <th>1</th>\n",
       "      <td>415</td>\n",
       "      <td>192</td>\n",
       "      <td>697</td>\n",
       "      <td>254</td>\n",
       "      <td>134</td>\n",
       "      <td>31</td>\n",
       "      <td>393</td>\n",
       "      <td>4575</td>\n",
       "      <td>218</td>\n",
       "      <td>55</td>\n",
       "      <td>1</td>\n",
       "      <td>0</td>\n",
       "      <td>163</td>\n",
       "      <td>105</td>\n",
       "      <td>0</td>\n",
       "      <td>1</td>\n",
       "      <td>3</td>\n",
       "      <td>3</td>\n",
       "      <td>8</td>\n",
       "      <td>284</td>\n",
       "      <td>10</td>\n",
       "      <td>8</td>\n",
       "      <td>4</td>\n",
       "      <td>31</td>\n",
       "      <td>2013-11-15 08:12:40</td>\n",
       "    </tr>\n",
       "    <tr>\n",
       "      <th>2</th>\n",
       "      <td>55</td>\n",
       "      <td>3</td>\n",
       "      <td>55</td>\n",
       "      <td>55</td>\n",
       "      <td>5</td>\n",
       "      <td>294</td>\n",
       "      <td>415</td>\n",
       "      <td>333</td>\n",
       "      <td>917</td>\n",
       "      <td>55</td>\n",
       "      <td>0</td>\n",
       "      <td>14</td>\n",
       "      <td>1</td>\n",
       "      <td>242</td>\n",
       "      <td>0</td>\n",
       "      <td>0</td>\n",
       "      <td>1</td>\n",
       "      <td>0</td>\n",
       "      <td>0</td>\n",
       "      <td>258</td>\n",
       "      <td>7</td>\n",
       "      <td>8</td>\n",
       "      <td>4</td>\n",
       "      <td>31</td>\n",
       "      <td>2013-11-15 08:17:25</td>\n",
       "    </tr>\n",
       "    <tr>\n",
       "      <th>3</th>\n",
       "      <td>482</td>\n",
       "      <td>3568</td>\n",
       "      <td>482</td>\n",
       "      <td>55</td>\n",
       "      <td>55</td>\n",
       "      <td>55</td>\n",
       "      <td>55</td>\n",
       "      <td>1005</td>\n",
       "      <td>201</td>\n",
       "      <td>124</td>\n",
       "      <td>2</td>\n",
       "      <td>1</td>\n",
       "      <td>0</td>\n",
       "      <td>1</td>\n",
       "      <td>25</td>\n",
       "      <td>1</td>\n",
       "      <td>0</td>\n",
       "      <td>0</td>\n",
       "      <td>0</td>\n",
       "      <td>30</td>\n",
       "      <td>6</td>\n",
       "      <td>8</td>\n",
       "      <td>4</td>\n",
       "      <td>31</td>\n",
       "      <td>2013-11-15 08:21:43</td>\n",
       "    </tr>\n",
       "    <tr>\n",
       "      <th>4</th>\n",
       "      <td>346</td>\n",
       "      <td>55</td>\n",
       "      <td>5</td>\n",
       "      <td>4382</td>\n",
       "      <td>261</td>\n",
       "      <td>212</td>\n",
       "      <td>3727</td>\n",
       "      <td>2450</td>\n",
       "      <td>675</td>\n",
       "      <td>2450</td>\n",
       "      <td>1</td>\n",
       "      <td>0</td>\n",
       "      <td>1</td>\n",
       "      <td>1</td>\n",
       "      <td>1</td>\n",
       "      <td>0</td>\n",
       "      <td>1</td>\n",
       "      <td>1</td>\n",
       "      <td>0</td>\n",
       "      <td>6</td>\n",
       "      <td>9</td>\n",
       "      <td>8</td>\n",
       "      <td>4</td>\n",
       "      <td>31</td>\n",
       "      <td>2013-11-15 08:22:13</td>\n",
       "    </tr>\n",
       "  </tbody>\n",
       "</table>\n",
       "</div>"
      ],
      "text/plain": [
       "   site1  site2  site3  site4  site5  site6  site7  site8  site9  site10  \\\n",
       "0    193    576    134      3    134    134      3    134    203     134   \n",
       "1    415    192    697    254    134     31    393   4575    218      55   \n",
       "2     55      3     55     55      5    294    415    333    917      55   \n",
       "3    482   3568    482     55     55     55     55   1005    201     124   \n",
       "4    346     55      5   4382    261    212   3727   2450    675    2450   \n",
       "\n",
       "   time_diff1  time_diff2  time_diff3  time_diff4  time_diff5  time_diff6  \\\n",
       "0          10           0           0           1          20           1   \n",
       "1           1           0         163         105           0           1   \n",
       "2           0          14           1         242           0           0   \n",
       "3           2           1           0           1          25           1   \n",
       "4           1           0           1           1           1           0   \n",
       "\n",
       "   time_diff7  time_diff8  time_diff9  session_timespan  #unique_sites  \\\n",
       "0           0           1           0                33              5   \n",
       "1           3           3           8               284             10   \n",
       "2           1           0           0               258              7   \n",
       "3           0           0           0                30              6   \n",
       "4           1           1           0                 6              9   \n",
       "\n",
       "   start_hour  day_of_week  target          start_time  \n",
       "0           8            4      31 2013-11-15 08:12:07  \n",
       "1           8            4      31 2013-11-15 08:12:40  \n",
       "2           8            4      31 2013-11-15 08:17:25  \n",
       "3           8            4      31 2013-11-15 08:21:43  \n",
       "4           8            4      31 2013-11-15 08:22:13  "
      ]
     },
     "execution_count": 9,
     "metadata": {},
     "output_type": "execute_result"
    }
   ],
   "source": [
    "train_data_10users.head()"
   ]
  },
  {
   "cell_type": "markdown",
   "metadata": {},
   "source": [
    "**Примените функцию *prepare_train_set_with_fe* к данным по 150 пользователям, укажите *session_length*=10.**"
   ]
  },
  {
   "cell_type": "code",
   "execution_count": 10,
   "metadata": {},
   "outputs": [
    {
     "name": "stdout",
     "output_type": "stream",
     "text": [
      "CPU times: user 13min 4s, sys: 4.55 s, total: 13min 9s\n",
      "Wall time: 13min 9s\n"
     ]
    }
   ],
   "source": [
    "%%time\n",
    "train_data_150users = prepare_train_set_with_fe(\n",
    "    os.path.join(PATH_TO_DATA, '150users'),\n",
    "    site_freq_path=os.path.join(PATH_TO_PICKLED, 'site_freq_150users.pkl'),\n",
    "    feature_names=feature_names,\n",
    "    session_length=10\n",
    ")"
   ]
  },
  {
   "cell_type": "code",
   "execution_count": 11,
   "metadata": {},
   "outputs": [
    {
     "data": {
      "text/html": [
       "<div>\n",
       "<style scoped>\n",
       "    .dataframe tbody tr th:only-of-type {\n",
       "        vertical-align: middle;\n",
       "    }\n",
       "\n",
       "    .dataframe tbody tr th {\n",
       "        vertical-align: top;\n",
       "    }\n",
       "\n",
       "    .dataframe thead th {\n",
       "        text-align: right;\n",
       "    }\n",
       "</style>\n",
       "<table border=\"1\" class=\"dataframe\">\n",
       "  <thead>\n",
       "    <tr style=\"text-align: right;\">\n",
       "      <th></th>\n",
       "      <th>site1</th>\n",
       "      <th>site2</th>\n",
       "      <th>site3</th>\n",
       "      <th>site4</th>\n",
       "      <th>site5</th>\n",
       "      <th>site6</th>\n",
       "      <th>site7</th>\n",
       "      <th>site8</th>\n",
       "      <th>site9</th>\n",
       "      <th>site10</th>\n",
       "      <th>time_diff1</th>\n",
       "      <th>time_diff2</th>\n",
       "      <th>time_diff3</th>\n",
       "      <th>time_diff4</th>\n",
       "      <th>time_diff5</th>\n",
       "      <th>time_diff6</th>\n",
       "      <th>time_diff7</th>\n",
       "      <th>time_diff8</th>\n",
       "      <th>time_diff9</th>\n",
       "      <th>session_timespan</th>\n",
       "      <th>#unique_sites</th>\n",
       "      <th>start_hour</th>\n",
       "      <th>day_of_week</th>\n",
       "      <th>target</th>\n",
       "      <th>start_time</th>\n",
       "    </tr>\n",
       "  </thead>\n",
       "  <tbody>\n",
       "    <tr>\n",
       "      <th>0</th>\n",
       "      <td>1</td>\n",
       "      <td>1</td>\n",
       "      <td>4</td>\n",
       "      <td>2</td>\n",
       "      <td>1</td>\n",
       "      <td>4</td>\n",
       "      <td>1</td>\n",
       "      <td>2</td>\n",
       "      <td>1294</td>\n",
       "      <td>321</td>\n",
       "      <td>1</td>\n",
       "      <td>1</td>\n",
       "      <td>1</td>\n",
       "      <td>4</td>\n",
       "      <td>0</td>\n",
       "      <td>1</td>\n",
       "      <td>0</td>\n",
       "      <td>49</td>\n",
       "      <td>0</td>\n",
       "      <td>57</td>\n",
       "      <td>5</td>\n",
       "      <td>8</td>\n",
       "      <td>4</td>\n",
       "      <td>6</td>\n",
       "      <td>2013-11-15 08:01:09</td>\n",
       "    </tr>\n",
       "    <tr>\n",
       "      <th>1</th>\n",
       "      <td>2</td>\n",
       "      <td>23</td>\n",
       "      <td>1512</td>\n",
       "      <td>1294</td>\n",
       "      <td>321</td>\n",
       "      <td>321</td>\n",
       "      <td>113</td>\n",
       "      <td>73</td>\n",
       "      <td>49</td>\n",
       "      <td>49</td>\n",
       "      <td>0</td>\n",
       "      <td>0</td>\n",
       "      <td>26</td>\n",
       "      <td>1</td>\n",
       "      <td>10</td>\n",
       "      <td>73</td>\n",
       "      <td>0</td>\n",
       "      <td>1504</td>\n",
       "      <td>4</td>\n",
       "      <td>1618</td>\n",
       "      <td>8</td>\n",
       "      <td>8</td>\n",
       "      <td>4</td>\n",
       "      <td>6</td>\n",
       "      <td>2013-11-15 08:02:06</td>\n",
       "    </tr>\n",
       "    <tr>\n",
       "      <th>2</th>\n",
       "      <td>321</td>\n",
       "      <td>205</td>\n",
       "      <td>1</td>\n",
       "      <td>1</td>\n",
       "      <td>1</td>\n",
       "      <td>1</td>\n",
       "      <td>73</td>\n",
       "      <td>321</td>\n",
       "      <td>2</td>\n",
       "      <td>1</td>\n",
       "      <td>1</td>\n",
       "      <td>10</td>\n",
       "      <td>1</td>\n",
       "      <td>5</td>\n",
       "      <td>16</td>\n",
       "      <td>56</td>\n",
       "      <td>1917</td>\n",
       "      <td>0</td>\n",
       "      <td>4</td>\n",
       "      <td>2010</td>\n",
       "      <td>5</td>\n",
       "      <td>8</td>\n",
       "      <td>4</td>\n",
       "      <td>6</td>\n",
       "      <td>2013-11-15 08:29:06</td>\n",
       "    </tr>\n",
       "    <tr>\n",
       "      <th>3</th>\n",
       "      <td>1</td>\n",
       "      <td>1</td>\n",
       "      <td>7252</td>\n",
       "      <td>7252</td>\n",
       "      <td>5702</td>\n",
       "      <td>7252</td>\n",
       "      <td>7252</td>\n",
       "      <td>1</td>\n",
       "      <td>35</td>\n",
       "      <td>1</td>\n",
       "      <td>1</td>\n",
       "      <td>0</td>\n",
       "      <td>1</td>\n",
       "      <td>0</td>\n",
       "      <td>118</td>\n",
       "      <td>420</td>\n",
       "      <td>1460</td>\n",
       "      <td>6</td>\n",
       "      <td>0</td>\n",
       "      <td>2006</td>\n",
       "      <td>4</td>\n",
       "      <td>9</td>\n",
       "      <td>4</td>\n",
       "      <td>6</td>\n",
       "      <td>2013-11-15 09:02:53</td>\n",
       "    </tr>\n",
       "    <tr>\n",
       "      <th>4</th>\n",
       "      <td>1</td>\n",
       "      <td>1</td>\n",
       "      <td>76</td>\n",
       "      <td>1</td>\n",
       "      <td>58</td>\n",
       "      <td>50</td>\n",
       "      <td>58</td>\n",
       "      <td>50</td>\n",
       "      <td>83</td>\n",
       "      <td>76</td>\n",
       "      <td>4</td>\n",
       "      <td>3</td>\n",
       "      <td>0</td>\n",
       "      <td>1</td>\n",
       "      <td>0</td>\n",
       "      <td>1</td>\n",
       "      <td>0</td>\n",
       "      <td>1</td>\n",
       "      <td>0</td>\n",
       "      <td>10</td>\n",
       "      <td>5</td>\n",
       "      <td>9</td>\n",
       "      <td>4</td>\n",
       "      <td>6</td>\n",
       "      <td>2013-11-15 09:36:22</td>\n",
       "    </tr>\n",
       "  </tbody>\n",
       "</table>\n",
       "</div>"
      ],
      "text/plain": [
       "   site1  site2  site3  site4  site5  site6  site7  site8  site9  site10  \\\n",
       "0      1      1      4      2      1      4      1      2   1294     321   \n",
       "1      2     23   1512   1294    321    321    113     73     49      49   \n",
       "2    321    205      1      1      1      1     73    321      2       1   \n",
       "3      1      1   7252   7252   5702   7252   7252      1     35       1   \n",
       "4      1      1     76      1     58     50     58     50     83      76   \n",
       "\n",
       "   time_diff1  time_diff2  time_diff3  time_diff4  time_diff5  time_diff6  \\\n",
       "0           1           1           1           4           0           1   \n",
       "1           0           0          26           1          10          73   \n",
       "2           1          10           1           5          16          56   \n",
       "3           1           0           1           0         118         420   \n",
       "4           4           3           0           1           0           1   \n",
       "\n",
       "   time_diff7  time_diff8  time_diff9  session_timespan  #unique_sites  \\\n",
       "0           0          49           0                57              5   \n",
       "1           0        1504           4              1618              8   \n",
       "2        1917           0           4              2010              5   \n",
       "3        1460           6           0              2006              4   \n",
       "4           0           1           0                10              5   \n",
       "\n",
       "   start_hour  day_of_week  target          start_time  \n",
       "0           8            4       6 2013-11-15 08:01:09  \n",
       "1           8            4       6 2013-11-15 08:02:06  \n",
       "2           8            4       6 2013-11-15 08:29:06  \n",
       "3           9            4       6 2013-11-15 09:02:53  \n",
       "4           9            4       6 2013-11-15 09:36:22  "
      ]
     },
     "execution_count": 11,
     "metadata": {},
     "output_type": "execute_result"
    }
   ],
   "source": [
    "train_data_150users.head()"
   ]
  },
  {
   "cell_type": "code",
   "execution_count": 12,
   "metadata": {},
   "outputs": [],
   "source": [
    "new_features = train_data_10users.columns[10:]"
   ]
  },
  {
   "cell_type": "markdown",
   "metadata": {},
   "source": [
    "**Сохраните в pickle-файлы признаки *session_timespan*, *#unique_sites*, *start_hour* и *day_of_week* для 10 и 150 пользователей.**"
   ]
  },
  {
   "cell_type": "code",
   "execution_count": 13,
   "metadata": {},
   "outputs": [],
   "source": [
    "train_data_10users[new_features].to_pickle(\n",
    "    os.path.join(PATH_TO_PICKLED, 'new_features_10users.pkl')\n",
    ")\n",
    "train_data_150users[new_features].to_pickle(\n",
    "    os.path.join(PATH_TO_PICKLED, 'new_features_150users.pkl')\n",
    ")\n",
    "train_data_10users.to_pickle(os.path.join(PATH_TO_PICKLED, '10users.pkl'))\n",
    "train_data_150users.to_pickle(os.path.join(PATH_TO_PICKLED, '150users.pkl'))"
   ]
  },
  {
   "cell_type": "code",
   "execution_count": 6,
   "metadata": {},
   "outputs": [],
   "source": [
    "train_data_10users = pd.read_pickle(os.path.join(PATH_TO_PICKLED, '10users.pkl'))\n",
    "train_data_150users = pd.read_pickle(os.path.join(PATH_TO_PICKLED, '150users.pkl'))"
   ]
  },
  {
   "cell_type": "markdown",
   "metadata": {},
   "source": [
    "**<font color='red'>Вопрос 1. </font> Выведите медианную продолжительность сессии (*session_timespan*) для сессий 10 пользователей.**"
   ]
  },
  {
   "cell_type": "code",
   "execution_count": 15,
   "metadata": {},
   "outputs": [
    {
     "data": {
      "text/plain": [
       "'Медианная продолжительность сессии: 37'"
      ]
     },
     "execution_count": 15,
     "metadata": {},
     "output_type": "execute_result"
    }
   ],
   "source": [
    "median = str(int(train_data_10users['session_timespan'].median()))\n",
    "with open(os.path.join(PATH_TO_ANSWERS, 'week3_1.txt'), 'w') as out:\n",
    "    out.write(median)\n",
    "f'Медианная продолжительность сессии: {median}'"
   ]
  },
  {
   "cell_type": "markdown",
   "metadata": {},
   "source": [
    "**<font color='red'>Вопрос 2. </font> Выведите медианный день недели, в который началась сессия, для сессий 10 пользователей.**"
   ]
  },
  {
   "cell_type": "code",
   "execution_count": 16,
   "metadata": {},
   "outputs": [
    {
     "data": {
      "text/plain": [
       "'Медианный день начала сессии: 2'"
      ]
     },
     "execution_count": 16,
     "metadata": {},
     "output_type": "execute_result"
    }
   ],
   "source": [
    "median = str(int(train_data_10users['day_of_week'].median()))\n",
    "with open(os.path.join(PATH_TO_ANSWERS, 'week3_2.txt'), 'w') as out:\n",
    "    out.write(median)\n",
    "f'Медианный день начала сессии: {median}'"
   ]
  },
  {
   "cell_type": "markdown",
   "metadata": {},
   "source": [
    "**<font color='red'>Вопрос 3. </font>Выведите медианный час начала сессии для сессий 150 пользователей.**"
   ]
  },
  {
   "cell_type": "code",
   "execution_count": 17,
   "metadata": {},
   "outputs": [
    {
     "data": {
      "text/plain": [
       "'Медианный час начала сессии: 13'"
      ]
     },
     "execution_count": 17,
     "metadata": {},
     "output_type": "execute_result"
    }
   ],
   "source": [
    "median = str(int(train_data_150users['start_hour'].median()))\n",
    "with open(os.path.join(PATH_TO_ANSWERS, 'week3_3.txt'), 'w') as out:\n",
    "    out.write(median)\n",
    "f'Медианный час начала сессии: {median}'"
   ]
  },
  {
   "cell_type": "markdown",
   "metadata": {},
   "source": [
    "**<font color='red'>Вопрос 4. </font>Выведите медианное значение числа уникальных сайтов в сессиях 150 пользователей.**"
   ]
  },
  {
   "cell_type": "code",
   "execution_count": 18,
   "metadata": {},
   "outputs": [
    {
     "data": {
      "text/plain": [
       "'Медианное значение числа уникальных сайтов: 7'"
      ]
     },
     "execution_count": 18,
     "metadata": {},
     "output_type": "execute_result"
    }
   ],
   "source": [
    "median = str(int(train_data_150users['#unique_sites'].median()))\n",
    "with open(os.path.join(PATH_TO_ANSWERS, 'week3_4.txt'), 'w') as out:\n",
    "    out.write(median)\n",
    "f'Медианное значение числа уникальных сайтов: {median}'"
   ]
  },
  {
   "cell_type": "markdown",
   "metadata": {},
   "source": [
    "## Часть 2. Визуальный анализ данных"
   ]
  },
  {
   "cell_type": "markdown",
   "metadata": {},
   "source": [
    "**Забавы ради, потехи для дадим пользователям имена и ассоциируем с ними цвета.**"
   ]
  },
  {
   "cell_type": "code",
   "execution_count": 7,
   "metadata": {},
   "outputs": [],
   "source": [
    "id_name_dict = {128: 'Mary-Kate', 39: 'Ashley', 207: 'Lindsey', 127: 'Naomi', 237: 'Avril',\n",
    "                33: 'Bob', 50: 'Bill', 31: 'John', 100: 'Dick', 241: 'Ed'}\n",
    "train_data_10users['target'] = pd.Categorical(train_data_10users['target'].map(id_name_dict))"
   ]
  },
  {
   "cell_type": "code",
   "execution_count": 8,
   "metadata": {},
   "outputs": [],
   "source": [
    "color_dic = {'Mary-Kate': 'pink', 'Ashley': 'darkviolet', 'Lindsey': 'blueviolet', \n",
    "             'Naomi': 'hotpink', 'Avril': 'orchid', \n",
    "             'Bob': 'firebrick', 'Bill': 'gold', 'John': 'forestgreen', \n",
    "             'Dick': 'slategrey', 'Ed':'brown'}"
   ]
  },
  {
   "cell_type": "markdown",
   "metadata": {},
   "source": [
    "**1. Постройте гистограмму распределения длины сессии в секундах (*session_timespan*). Ограничьте по *x* значением 200 (иначе слишком тяжелый хвост). Сделайте гистограмму цвета *darkviolet*, подпишите оси по-русски.**"
   ]
  },
  {
   "cell_type": "code",
   "execution_count": 21,
   "metadata": {},
   "outputs": [
    {
     "data": {
      "image/png": "[encoded data removed]",
      "text/plain": [
       "<Figure size 432x288 with 1 Axes>"
      ]
     },
     "metadata": {
      "needs_background": "light"
     },
     "output_type": "display_data"
    }
   ],
   "source": [
    "train_data_10users['session_timespan'].hist(color='darkviolet', range=(0, 200))\n",
    "plt.xlabel('Продолжительность сессии, сек')\n",
    "plt.ylabel('Количество сессий')\n",
    "plt.show()"
   ]
  },
  {
   "cell_type": "markdown",
   "metadata": {},
   "source": [
    "**2. Постройте гистограмму распределения числа уникальных сайтов в сессии (*#unique_sites*). Сделайте гистограмму цвета *aqua*, подпишите оси по-русски.**"
   ]
  },
  {
   "cell_type": "code",
   "execution_count": 22,
   "metadata": {},
   "outputs": [
    {
     "data": {
      "image/png": "[encoded data removed]",
      "text/plain": [
       "<Figure size 432x288 with 1 Axes>"
      ]
     },
     "metadata": {
      "needs_background": "light"
     },
     "output_type": "display_data"
    }
   ],
   "source": [
    "train_data_10users['#unique_sites'].value_counts().sort_index().plot(kind='bar', color='aqua')\n",
    "plt.xlabel('Число уникальных сайтов')\n",
    "plt.ylabel('Количество сессий')\n",
    "plt.show()"
   ]
  },
  {
   "cell_type": "markdown",
   "metadata": {},
   "source": [
    "**3. Постройте гистограммы распределения числа уникальных сайтов в сессии (*#unique_sites*) для каждого из 10 пользователей по отдельности. Используйте *subplots*, чтоб разместить все 10 картинок на одной большой. Пометьте легендой каждую картинку, на легенде должно быть написано имя пользователя. Для каждого пользователя раскрасьте гистограмму его/ее цветом (*color_dic*). Подпишите оси по-русски в каждой из 10 гистограмм.**"
   ]
  },
  {
   "cell_type": "code",
   "execution_count": 23,
   "metadata": {},
   "outputs": [
    {
     "data": {
      "image/png": "[encoded data removed]",
      "text/plain": [
       "<Figure size 1656x792 with 10 Axes>"
      ]
     },
     "metadata": {
      "needs_background": "light"
     },
     "output_type": "display_data"
    }
   ],
   "source": [
    "fig, axes = plt.subplots(nrows=2, ncols=5, figsize=(23, 11))\n",
    "\n",
    "for idx, ((user, sub_df), ax) in enumerate(zip(train_data_10users.groupby('target')['#unique_sites'],\n",
    "                                               axes.flatten())):\n",
    "    sub_df.value_counts().sort_index().plot(kind='bar', ax=ax, color=color_dic[user])\n",
    "    ax.set_title(user)\n",
    "    ax.set_ylabel('Количество сессий')\n",
    "    ax.set_xlabel('Число уникальных сайтов')"
   ]
  },
  {
   "cell_type": "markdown",
   "metadata": {},
   "source": [
    "**4. Постройте гистограмму распределения часа начала сессии (*start_hour*). Сделайте гистограмму цвета *darkgreen*, подпишите оси по-русски.**"
   ]
  },
  {
   "cell_type": "code",
   "execution_count": 24,
   "metadata": {},
   "outputs": [
    {
     "data": {
      "image/png": "[encoded data removed]",
      "text/plain": [
       "<Figure size 432x288 with 1 Axes>"
      ]
     },
     "metadata": {
      "needs_background": "light"
     },
     "output_type": "display_data"
    }
   ],
   "source": [
    "train_data_10users['start_hour'].value_counts().sort_index().plot(kind='bar', color='darkgreen')\n",
    "plt.xlabel('Час начала сессии')\n",
    "plt.ylabel('Количество сессий')\n",
    "plt.show()"
   ]
  },
  {
   "cell_type": "markdown",
   "metadata": {},
   "source": [
    "**5. Постройте гистограммы распределения часа начала сессии (*start_hour*) для каждого из 10 пользователей по отдельности. Используйте *subplots*, чтоб разместить все 10 картинок на одной большой. Пометьте легендой каждую картинку, на легенде должно быть написано имя пользователя. Для каждого пользователя раскрасьте гистограмму его/ее цветом (*color_dic*). Подпишите оси по-русски в каждой из 10 гистограмм.**"
   ]
  },
  {
   "cell_type": "code",
   "execution_count": 25,
   "metadata": {},
   "outputs": [
    {
     "data": {
      "image/png": "[encoded data removed]",
      "text/plain": [
       "<Figure size 1656x792 with 10 Axes>"
      ]
     },
     "metadata": {
      "needs_background": "light"
     },
     "output_type": "display_data"
    }
   ],
   "source": [
    "fig, axes = plt.subplots(nrows=2, ncols=5, figsize=(23, 11))\n",
    "\n",
    "for idx, ((user, sub_df), ax) in enumerate(zip(train_data_10users.groupby('target')['start_hour'],\n",
    "                                               axes.flatten())):\n",
    "    sub_df.value_counts().sort_index().plot(kind='bar', ax=ax, color=color_dic[user])\n",
    "    ax.set_title(user)\n",
    "    ax.set_ylabel('Количество сессий')\n",
    "    ax.set_xlabel('Час начала сессии')"
   ]
  },
  {
   "cell_type": "markdown",
   "metadata": {},
   "source": [
    "**6. Постройте гистограмму распределения дня недели, в который началась сессия (*day_of_week*). Сделайте гистограмму цвета *sienna*, подпишите оси по-русски.**"
   ]
  },
  {
   "cell_type": "code",
   "execution_count": 11,
   "metadata": {},
   "outputs": [
    {
     "data": {
      "image/png": "[encoded data removed]",
      "text/plain": [
       "<Figure size 432x288 with 1 Axes>"
      ]
     },
     "metadata": {
      "needs_background": "light"
     },
     "output_type": "display_data"
    }
   ],
   "source": [
    "fig = plt.figure()\n",
    "ax = fig.add_subplot()\n",
    "\n",
    "train_data_10users['day_of_week'].value_counts().sort_index().plot(kind='bar', color='sienna')\n",
    "weekdays = np.array(('Пн', 'Вт', 'Ср', 'Чт', 'Пт', 'Сб', 'Вс'))\n",
    "\n",
    "ax.set_xticklabels(weekdays, rotation=0)\n",
    "plt.xlabel('День недели начала сессии')\n",
    "plt.ylabel('Количество сессий')\n",
    "plt.show()"
   ]
  },
  {
   "cell_type": "markdown",
   "metadata": {},
   "source": [
    "**7. Постройте гистограммы распределения дня недели, в который началась сессия (*day_of_week*) для каждого из 10 пользователей по отдельности. Используйте *subplots*, чтоб разместить все 10 картинок на одной большой. Измените метки по оси *X* на ['Пн', 'Вт', 'Ср', 'Чт', 'Пт', 'Сб', 'Вс'] – метод *set_xticklabels*. Пометьте легендой каждую картинку, на легенде должно быть написано имя пользователя. Для каждого пользователя раскрасьте гистограмму его/ее цветом (*color_dic*). Подпишите по-русски название каждой из 10 гистограмм.**"
   ]
  },
  {
   "cell_type": "code",
   "execution_count": 12,
   "metadata": {},
   "outputs": [
    {
     "data": {
      "image/png": "[encoded data removed]",
      "text/plain": [
       "<Figure size 1656x792 with 10 Axes>"
      ]
     },
     "metadata": {
      "needs_background": "light"
     },
     "output_type": "display_data"
    }
   ],
   "source": [
    "fig, axes = plt.subplots(nrows=2, ncols=5, figsize=(23, 11))\n",
    "\n",
    "for idx, ((user, sub_df), ax) in enumerate(zip(train_data_10users.groupby('target')['day_of_week'],\n",
    "                                               axes.flatten())):\n",
    "    sub_df.value_counts().sort_index().plot(kind='bar', ax=ax, color=color_dic[user])\n",
    "    ax.set_title(user)\n",
    "    ax.set_ylabel('Количество сессий')\n",
    "    ax.set_xlabel('День недели начала сессии')\n",
    "    ax.set_xticklabels(weekdays[sub_df.min():(sub_df.max() + 1)], rotation=0)"
   ]
  },
  {
   "cell_type": "markdown",
   "metadata": {},
   "source": [
    "**8. Сделайте выводы про каждого пользователя по построенным графикам.**"
   ]
  },
  {
   "cell_type": "markdown",
   "metadata": {},
   "source": [
    "Видим, что каждый пользователь может быть характеризован своим уникальным распределениями часа и дня начала сессии.\n",
    "\n",
    "Например, Эд, Линдси и Эшли больше других предпочитают определённый день недели в то время, как для Аврила и Наоми характерно более равномерное распределение по дням недели.\n",
    "\n",
    "Также практически все пользователи, за исключением Мэри-Кейт, предпочитают определённую часть суток.\n",
    "\n",
    "- Эшли\n",
    " - Характерный день недели: Ср\n",
    " - Характерное время начала сессии: Утро после 8 и днём в 14-15\n",
    "- Аврил\n",
    " - Характерный день недели: Больше во Вт, меньше - в Пт и Сб\n",
    " - Характерное время начала сессии: Днём в 13 и 17\n",
    "- Билл\n",
    " - Характерный день недели: Пн\n",
    " - Характерное время начала сессии: Днём в 14-15 и утром после в 8-9\n",
    "- Боб\n",
    " - Характерный день недели: Вт, Чт, Пт, выходные отсутствуют\n",
    " - Характерное время начала сессии: 10 и 15\n",
    "- Дик\n",
    " - Характерный день недели: Ср, Сб; Пт отсутствует\n",
    " - Характерное время начала сессии: 8-9, 16 и 21\n",
    "- Эд\n",
    " - Характерный день недели: Ср\n",
    " - Характерное время начала сессии: 16\n",
    "- Джон\n",
    " - Характерный день недели: Чт, Пт\n",
    " - Характерное время начала сессии: Более-менее равномерно с пиком в 15, почти не заходит после 18\n",
    "- Линдси\n",
    " - Характерный день недели: Вт, Ср\n",
    " - Характерное время начала сессии: 12, 14\n",
    "- Мэри-Кейт\n",
    " - Характерный день недели: Сб, Вс\n",
    " - Характерное время начала сессии: Более-менее равномерно с пиком в 20\n",
    "- Наоми\n",
    " - Характерный день недели: Чт, меньше в выходные\n",
    " - Характерное время начала сессии: 13-14"
   ]
  },
  {
   "cell_type": "markdown",
   "metadata": {},
   "source": [
    "**Загрузите сохраненный ранее в pickle-файл частотный словарь сайтов для 10 пользователей. **"
   ]
  },
  {
   "cell_type": "code",
   "execution_count": 28,
   "metadata": {},
   "outputs": [],
   "source": [
    "with open(os.path.join(PATH_TO_PICKLED, 'site_freq_10users.pkl'), 'rb') as freq_file:\n",
    "    site_freq_10users = heapq.nlargest(10, pickle.load(freq_file).items(), key=lambda x: x[1][1])"
   ]
  },
  {
   "cell_type": "markdown",
   "metadata": {},
   "source": [
    "**Определите топ-10 самых посещаемых сайтов (*top10_sites*) и соответствующие кол-ва посещений (*top10_freqs*).**"
   ]
  },
  {
   "cell_type": "code",
   "execution_count": 29,
   "metadata": {},
   "outputs": [
    {
     "name": "stdout",
     "output_type": "stream",
     "text": [
      "['s.youtube.com' 'www.google.fr' 'www.google.com' 'mail.google.com'\n",
      " 'www.facebook.com' 'apis.google.com'\n",
      " 'r3---sn-gxo5uxg-jqbe.googlevideo.com'\n",
      " 'r1---sn-gxo5uxg-jqbe.googlevideo.com' 'plus.google.com'\n",
      " 'accounts.google.com']\n",
      "[8300 7813 5441 4158 4141 3758 3244 3094 2630 2089]\n"
     ]
    }
   ],
   "source": [
    "top10_sites = np.array(\n",
    "    tuple(\n",
    "        map(\n",
    "            operator.itemgetter(0),\n",
    "            heapq.nlargest(10, site_freq_10users, key=lambda x: x[1][1])\n",
    "        )\n",
    "    )\n",
    ")\n",
    "top10_freqs = np.array(\n",
    "    heapq.nlargest(\n",
    "        10,\n",
    "        map(\n",
    "            lambda x: x[1][1],\n",
    "            site_freq_10users\n",
    "        )\n",
    "    )\n",
    ")\n",
    "print(top10_sites)\n",
    "print(top10_freqs)"
   ]
  },
  {
   "cell_type": "markdown",
   "metadata": {},
   "source": [
    "**9. Нарисуйте *seaborn barplot*, показывающий частоты посещений топ-10 сайтов. Сделайте подписи сайтов вертикальными, иначе они сливаются (*xticks*).**"
   ]
  },
  {
   "cell_type": "code",
   "execution_count": 30,
   "metadata": {},
   "outputs": [
    {
     "data": {
      "image/png": "[encoded data removed]",
      "text/plain": [
       "<Figure size 864x576 with 1 Axes>"
      ]
     },
     "metadata": {
      "needs_background": "light"
     },
     "output_type": "display_data"
    }
   ],
   "source": [
    "plt.figure(figsize=(12, 8))\n",
    "plt.xticks(rotation='vertical')\n",
    "sns.barplot(x=top10_sites, y=top10_freqs)\n",
    "plt.show()"
   ]
  },
  {
   "cell_type": "markdown",
   "metadata": {},
   "source": [
    "## Часть 3. Дальнейшее построение признаков"
   ]
  },
  {
   "cell_type": "markdown",
   "metadata": {},
   "source": [
    "Это задание творческое, тут надо придумать, как еще учесть время посещения веб-страниц и прочие признаки. \n",
    "\n",
    "На следующей неделе мы будем использовать \"мешок\" сайтов  для классификации сессий по принадлежности разным пользователям, а эти новые признаки, которые Вы сейчас создадите, потом добавим и посмотрим, улучшается ли модель. Поэтому можно их создать в виде отдельных матриц и сохранить их также отдельно.  \n",
    "\n",
    "В этой части задания Вы можете построить и визуально исследовать самые разные признаки (ничто фантазию не ограничивает):\n",
    "- год, месяц и день начала сессии\n",
    "- час начала сессии (с учетом года, месяца и дня)\n",
    "- время суток\n",
    "- среднее время пребывания на сайте, посчитать можно, скажем, для топ-30 популярных сайтов\n",
    "- индикаторы посещения популярных сайтов (скажем, тоже для топ-30 популярных сайтов)\n",
    "- частота посещения Facebook\n",
    "- ..."
   ]
  },
  {
   "cell_type": "markdown",
   "metadata": {},
   "source": [
    "**Напишите функцию для создания новых признаков и примените ее к исходным данным – каталогам с 10 и 150 файлами. Сделайте это только для набора данных, полученного с параметрами *session_length=10* и *window_size=10*. Сериализуйте полученные матрицы с помощью pickle. Функция может возвращать как только новые признаки, так и старые с новыми. При этом сигнатура функции может быть другой – тут уже свобода выбора.**"
   ]
  },
  {
   "cell_type": "code",
   "execution_count": 31,
   "metadata": {},
   "outputs": [],
   "source": [
    "time_of_day = dict(\n",
    "    itertools.chain(\n",
    "        zip(range(3), itertools.repeat('night')),\n",
    "        zip(range(3, 9), itertools.repeat('morning')),\n",
    "        zip(range(9, 15), itertools.repeat('day')),\n",
    "        zip(range(15, 21), itertools.repeat('evening')),\n",
    "        zip(range(21, 24), itertools.repeat('night'))\n",
    "    )\n",
    ")"
   ]
  },
  {
   "cell_type": "code",
   "execution_count": 32,
   "metadata": {},
   "outputs": [],
   "source": [
    "def feature_engineering(df: pd.DataFrame) -> pd.DataFrame:\n",
    "    site_ID_cols = pd.Index(filter(lambda col: col[:4] == 'site', df.columns))\n",
    "    time_diff_cols = pd.Index(filter(lambda col: col[:9] == 'time_diff', df.columns))\n",
    "    site_IDs = df[site_ID_cols]\n",
    "    time_diffs = df[time_diff_cols]\n",
    "\n",
    "    session_length = site_IDs.shape[1]\n",
    "\n",
    "    time_diff_std = df[time_diff_cols][\n",
    "        pd.DataFrame(\n",
    "            columns=time_diff_cols,\n",
    "            index=df.index,\n",
    "            data=(site_IDs.iloc[:,1:] != 0).values\n",
    "        )\n",
    "    ].std(1)\n",
    "    times_of_day = pd.Categorical(\n",
    "        df['start_hour'].apply(lambda x: time_of_day[x]),\n",
    "        ordered=True,\n",
    "        categories=['morning', 'day', 'evening', 'night']\n",
    "    )\n",
    "    num_consec_sites = ((site_IDs.diff(axis=1) == 0) & (site_IDs != 0)).sum(1)\n",
    "    return pd.DataFrame(\n",
    "        data={\n",
    "            'num_consecutive_sites': num_consec_sites,\n",
    "            'time_of_day': times_of_day,\n",
    "            'time_diff_std': time_diff_std\n",
    "        }\n",
    "    )"
   ]
  },
  {
   "cell_type": "code",
   "execution_count": 33,
   "metadata": {},
   "outputs": [
    {
     "data": {
      "text/html": [
       "<div>\n",
       "<style scoped>\n",
       "    .dataframe tbody tr th:only-of-type {\n",
       "        vertical-align: middle;\n",
       "    }\n",
       "\n",
       "    .dataframe tbody tr th {\n",
       "        vertical-align: top;\n",
       "    }\n",
       "\n",
       "    .dataframe thead th {\n",
       "        text-align: right;\n",
       "    }\n",
       "</style>\n",
       "<table border=\"1\" class=\"dataframe\">\n",
       "  <thead>\n",
       "    <tr style=\"text-align: right;\">\n",
       "      <th></th>\n",
       "      <th>site1</th>\n",
       "      <th>site2</th>\n",
       "      <th>site3</th>\n",
       "      <th>site4</th>\n",
       "      <th>site5</th>\n",
       "      <th>site6</th>\n",
       "      <th>site7</th>\n",
       "      <th>site8</th>\n",
       "      <th>site9</th>\n",
       "      <th>site10</th>\n",
       "      <th>time_diff1</th>\n",
       "      <th>time_diff2</th>\n",
       "      <th>...</th>\n",
       "      <th>time_diff7</th>\n",
       "      <th>time_diff8</th>\n",
       "      <th>time_diff9</th>\n",
       "      <th>session_timespan</th>\n",
       "      <th>#unique_sites</th>\n",
       "      <th>start_hour</th>\n",
       "      <th>day_of_week</th>\n",
       "      <th>target</th>\n",
       "      <th>start_time</th>\n",
       "      <th>num_consecutive_sites</th>\n",
       "      <th>time_of_day</th>\n",
       "      <th>time_diff_std</th>\n",
       "    </tr>\n",
       "  </thead>\n",
       "  <tbody>\n",
       "    <tr>\n",
       "      <th>0</th>\n",
       "      <td>193</td>\n",
       "      <td>576</td>\n",
       "      <td>134</td>\n",
       "      <td>3</td>\n",
       "      <td>134</td>\n",
       "      <td>134</td>\n",
       "      <td>3</td>\n",
       "      <td>134</td>\n",
       "      <td>203</td>\n",
       "      <td>134</td>\n",
       "      <td>10</td>\n",
       "      <td>0</td>\n",
       "      <td>...</td>\n",
       "      <td>0</td>\n",
       "      <td>1</td>\n",
       "      <td>0</td>\n",
       "      <td>33</td>\n",
       "      <td>5</td>\n",
       "      <td>8</td>\n",
       "      <td>4</td>\n",
       "      <td>John</td>\n",
       "      <td>2013-11-15 08:12:07</td>\n",
       "      <td>1</td>\n",
       "      <td>morning</td>\n",
       "      <td>6.910137</td>\n",
       "    </tr>\n",
       "    <tr>\n",
       "      <th>1</th>\n",
       "      <td>415</td>\n",
       "      <td>192</td>\n",
       "      <td>697</td>\n",
       "      <td>254</td>\n",
       "      <td>134</td>\n",
       "      <td>31</td>\n",
       "      <td>393</td>\n",
       "      <td>4575</td>\n",
       "      <td>218</td>\n",
       "      <td>55</td>\n",
       "      <td>1</td>\n",
       "      <td>0</td>\n",
       "      <td>...</td>\n",
       "      <td>3</td>\n",
       "      <td>3</td>\n",
       "      <td>8</td>\n",
       "      <td>284</td>\n",
       "      <td>10</td>\n",
       "      <td>8</td>\n",
       "      <td>4</td>\n",
       "      <td>John</td>\n",
       "      <td>2013-11-15 08:12:40</td>\n",
       "      <td>0</td>\n",
       "      <td>morning</td>\n",
       "      <td>59.912668</td>\n",
       "    </tr>\n",
       "    <tr>\n",
       "      <th>2</th>\n",
       "      <td>55</td>\n",
       "      <td>3</td>\n",
       "      <td>55</td>\n",
       "      <td>55</td>\n",
       "      <td>5</td>\n",
       "      <td>294</td>\n",
       "      <td>415</td>\n",
       "      <td>333</td>\n",
       "      <td>917</td>\n",
       "      <td>55</td>\n",
       "      <td>0</td>\n",
       "      <td>14</td>\n",
       "      <td>...</td>\n",
       "      <td>1</td>\n",
       "      <td>0</td>\n",
       "      <td>0</td>\n",
       "      <td>258</td>\n",
       "      <td>7</td>\n",
       "      <td>8</td>\n",
       "      <td>4</td>\n",
       "      <td>John</td>\n",
       "      <td>2013-11-15 08:17:25</td>\n",
       "      <td>1</td>\n",
       "      <td>morning</td>\n",
       "      <td>80.129583</td>\n",
       "    </tr>\n",
       "    <tr>\n",
       "      <th>3</th>\n",
       "      <td>482</td>\n",
       "      <td>3568</td>\n",
       "      <td>482</td>\n",
       "      <td>55</td>\n",
       "      <td>55</td>\n",
       "      <td>55</td>\n",
       "      <td>55</td>\n",
       "      <td>1005</td>\n",
       "      <td>201</td>\n",
       "      <td>124</td>\n",
       "      <td>2</td>\n",
       "      <td>1</td>\n",
       "      <td>...</td>\n",
       "      <td>0</td>\n",
       "      <td>0</td>\n",
       "      <td>0</td>\n",
       "      <td>30</td>\n",
       "      <td>6</td>\n",
       "      <td>8</td>\n",
       "      <td>4</td>\n",
       "      <td>John</td>\n",
       "      <td>2013-11-15 08:21:43</td>\n",
       "      <td>3</td>\n",
       "      <td>morning</td>\n",
       "      <td>8.154753</td>\n",
       "    </tr>\n",
       "    <tr>\n",
       "      <th>4</th>\n",
       "      <td>346</td>\n",
       "      <td>55</td>\n",
       "      <td>5</td>\n",
       "      <td>4382</td>\n",
       "      <td>261</td>\n",
       "      <td>212</td>\n",
       "      <td>3727</td>\n",
       "      <td>2450</td>\n",
       "      <td>675</td>\n",
       "      <td>2450</td>\n",
       "      <td>1</td>\n",
       "      <td>0</td>\n",
       "      <td>...</td>\n",
       "      <td>1</td>\n",
       "      <td>1</td>\n",
       "      <td>0</td>\n",
       "      <td>6</td>\n",
       "      <td>9</td>\n",
       "      <td>8</td>\n",
       "      <td>4</td>\n",
       "      <td>John</td>\n",
       "      <td>2013-11-15 08:22:13</td>\n",
       "      <td>0</td>\n",
       "      <td>morning</td>\n",
       "      <td>0.500000</td>\n",
       "    </tr>\n",
       "    <tr>\n",
       "      <th>...</th>\n",
       "      <td>...</td>\n",
       "      <td>...</td>\n",
       "      <td>...</td>\n",
       "      <td>...</td>\n",
       "      <td>...</td>\n",
       "      <td>...</td>\n",
       "      <td>...</td>\n",
       "      <td>...</td>\n",
       "      <td>...</td>\n",
       "      <td>...</td>\n",
       "      <td>...</td>\n",
       "      <td>...</td>\n",
       "      <td>...</td>\n",
       "      <td>...</td>\n",
       "      <td>...</td>\n",
       "      <td>...</td>\n",
       "      <td>...</td>\n",
       "      <td>...</td>\n",
       "      <td>...</td>\n",
       "      <td>...</td>\n",
       "      <td>...</td>\n",
       "      <td>...</td>\n",
       "      <td>...</td>\n",
       "      <td>...</td>\n",
       "      <td>...</td>\n",
       "    </tr>\n",
       "    <tr>\n",
       "      <th>14056</th>\n",
       "      <td>3</td>\n",
       "      <td>4</td>\n",
       "      <td>6</td>\n",
       "      <td>10</td>\n",
       "      <td>2</td>\n",
       "      <td>21</td>\n",
       "      <td>3</td>\n",
       "      <td>6</td>\n",
       "      <td>27</td>\n",
       "      <td>65</td>\n",
       "      <td>0</td>\n",
       "      <td>1</td>\n",
       "      <td>...</td>\n",
       "      <td>23</td>\n",
       "      <td>1</td>\n",
       "      <td>0</td>\n",
       "      <td>27</td>\n",
       "      <td>8</td>\n",
       "      <td>15</td>\n",
       "      <td>2</td>\n",
       "      <td>Ed</td>\n",
       "      <td>2014-03-26 15:38:54</td>\n",
       "      <td>0</td>\n",
       "      <td>evening</td>\n",
       "      <td>7.516648</td>\n",
       "    </tr>\n",
       "    <tr>\n",
       "      <th>14057</th>\n",
       "      <td>10</td>\n",
       "      <td>21</td>\n",
       "      <td>65</td>\n",
       "      <td>27</td>\n",
       "      <td>30</td>\n",
       "      <td>3</td>\n",
       "      <td>4</td>\n",
       "      <td>9</td>\n",
       "      <td>4</td>\n",
       "      <td>30</td>\n",
       "      <td>0</td>\n",
       "      <td>0</td>\n",
       "      <td>...</td>\n",
       "      <td>2</td>\n",
       "      <td>1</td>\n",
       "      <td>6</td>\n",
       "      <td>11</td>\n",
       "      <td>8</td>\n",
       "      <td>15</td>\n",
       "      <td>2</td>\n",
       "      <td>Ed</td>\n",
       "      <td>2014-03-26 15:39:26</td>\n",
       "      <td>0</td>\n",
       "      <td>evening</td>\n",
       "      <td>1.986063</td>\n",
       "    </tr>\n",
       "    <tr>\n",
       "      <th>14058</th>\n",
       "      <td>33</td>\n",
       "      <td>4</td>\n",
       "      <td>9</td>\n",
       "      <td>6</td>\n",
       "      <td>10</td>\n",
       "      <td>51</td>\n",
       "      <td>9</td>\n",
       "      <td>33</td>\n",
       "      <td>4</td>\n",
       "      <td>4</td>\n",
       "      <td>1</td>\n",
       "      <td>1</td>\n",
       "      <td>...</td>\n",
       "      <td>0</td>\n",
       "      <td>5</td>\n",
       "      <td>8</td>\n",
       "      <td>16</td>\n",
       "      <td>6</td>\n",
       "      <td>15</td>\n",
       "      <td>2</td>\n",
       "      <td>Ed</td>\n",
       "      <td>2014-03-26 15:39:38</td>\n",
       "      <td>1</td>\n",
       "      <td>evening</td>\n",
       "      <td>2.818589</td>\n",
       "    </tr>\n",
       "    <tr>\n",
       "      <th>14059</th>\n",
       "      <td>4</td>\n",
       "      <td>4</td>\n",
       "      <td>4</td>\n",
       "      <td>43</td>\n",
       "      <td>51</td>\n",
       "      <td>4</td>\n",
       "      <td>3</td>\n",
       "      <td>3</td>\n",
       "      <td>9</td>\n",
       "      <td>4</td>\n",
       "      <td>2</td>\n",
       "      <td>1</td>\n",
       "      <td>...</td>\n",
       "      <td>1</td>\n",
       "      <td>1</td>\n",
       "      <td>0</td>\n",
       "      <td>242</td>\n",
       "      <td>5</td>\n",
       "      <td>15</td>\n",
       "      <td>2</td>\n",
       "      <td>Ed</td>\n",
       "      <td>2014-03-26 15:39:55</td>\n",
       "      <td>3</td>\n",
       "      <td>evening</td>\n",
       "      <td>57.200185</td>\n",
       "    </tr>\n",
       "    <tr>\n",
       "      <th>14060</th>\n",
       "      <td>10</td>\n",
       "      <td>21</td>\n",
       "      <td>0</td>\n",
       "      <td>0</td>\n",
       "      <td>0</td>\n",
       "      <td>0</td>\n",
       "      <td>0</td>\n",
       "      <td>0</td>\n",
       "      <td>0</td>\n",
       "      <td>0</td>\n",
       "      <td>0</td>\n",
       "      <td>0</td>\n",
       "      <td>...</td>\n",
       "      <td>0</td>\n",
       "      <td>0</td>\n",
       "      <td>0</td>\n",
       "      <td>0</td>\n",
       "      <td>2</td>\n",
       "      <td>15</td>\n",
       "      <td>2</td>\n",
       "      <td>Ed</td>\n",
       "      <td>2014-03-26 15:43:58</td>\n",
       "      <td>0</td>\n",
       "      <td>evening</td>\n",
       "      <td>NaN</td>\n",
       "    </tr>\n",
       "  </tbody>\n",
       "</table>\n",
       "<p>14061 rows × 28 columns</p>\n",
       "</div>"
      ],
      "text/plain": [
       "       site1  site2  site3  site4  site5  site6  site7  site8  site9  site10  \\\n",
       "0        193    576    134      3    134    134      3    134    203     134   \n",
       "1        415    192    697    254    134     31    393   4575    218      55   \n",
       "2         55      3     55     55      5    294    415    333    917      55   \n",
       "3        482   3568    482     55     55     55     55   1005    201     124   \n",
       "4        346     55      5   4382    261    212   3727   2450    675    2450   \n",
       "...      ...    ...    ...    ...    ...    ...    ...    ...    ...     ...   \n",
       "14056      3      4      6     10      2     21      3      6     27      65   \n",
       "14057     10     21     65     27     30      3      4      9      4      30   \n",
       "14058     33      4      9      6     10     51      9     33      4       4   \n",
       "14059      4      4      4     43     51      4      3      3      9       4   \n",
       "14060     10     21      0      0      0      0      0      0      0       0   \n",
       "\n",
       "       time_diff1  time_diff2  ...  time_diff7  time_diff8  time_diff9  \\\n",
       "0              10           0  ...           0           1           0   \n",
       "1               1           0  ...           3           3           8   \n",
       "2               0          14  ...           1           0           0   \n",
       "3               2           1  ...           0           0           0   \n",
       "4               1           0  ...           1           1           0   \n",
       "...           ...         ...  ...         ...         ...         ...   \n",
       "14056           0           1  ...          23           1           0   \n",
       "14057           0           0  ...           2           1           6   \n",
       "14058           1           1  ...           0           5           8   \n",
       "14059           2           1  ...           1           1           0   \n",
       "14060           0           0  ...           0           0           0   \n",
       "\n",
       "       session_timespan  #unique_sites  start_hour  day_of_week  target  \\\n",
       "0                    33              5           8            4    John   \n",
       "1                   284             10           8            4    John   \n",
       "2                   258              7           8            4    John   \n",
       "3                    30              6           8            4    John   \n",
       "4                     6              9           8            4    John   \n",
       "...                 ...            ...         ...          ...     ...   \n",
       "14056                27              8          15            2      Ed   \n",
       "14057                11              8          15            2      Ed   \n",
       "14058                16              6          15            2      Ed   \n",
       "14059               242              5          15            2      Ed   \n",
       "14060                 0              2          15            2      Ed   \n",
       "\n",
       "               start_time  num_consecutive_sites  time_of_day time_diff_std  \n",
       "0     2013-11-15 08:12:07                      1      morning      6.910137  \n",
       "1     2013-11-15 08:12:40                      0      morning     59.912668  \n",
       "2     2013-11-15 08:17:25                      1      morning     80.129583  \n",
       "3     2013-11-15 08:21:43                      3      morning      8.154753  \n",
       "4     2013-11-15 08:22:13                      0      morning      0.500000  \n",
       "...                   ...                    ...          ...           ...  \n",
       "14056 2014-03-26 15:38:54                      0      evening      7.516648  \n",
       "14057 2014-03-26 15:39:26                      0      evening      1.986063  \n",
       "14058 2014-03-26 15:39:38                      1      evening      2.818589  \n",
       "14059 2014-03-26 15:39:55                      3      evening     57.200185  \n",
       "14060 2014-03-26 15:43:58                      0      evening           NaN  \n",
       "\n",
       "[14061 rows x 28 columns]"
      ]
     },
     "execution_count": 33,
     "metadata": {},
     "output_type": "execute_result"
    }
   ],
   "source": [
    "new_features_10users = feature_engineering(train_data_10users)\n",
    "new_10users = pd.concat((train_data_10users, new_features_10users), axis=1)\n",
    "new_10users"
   ]
  },
  {
   "cell_type": "markdown",
   "metadata": {},
   "source": [
    "**10. Постройте картинки для новых признаков, поисследуйте их, прокомментируйте результаты.**"
   ]
  },
  {
   "cell_type": "code",
   "execution_count": 34,
   "metadata": {},
   "outputs": [
    {
     "data": {
      "image/png": "[encoded data removed]",
      "text/plain": [
       "<Figure size 1656x792 with 10 Axes>"
      ]
     },
     "metadata": {
      "needs_background": "light"
     },
     "output_type": "display_data"
    }
   ],
   "source": [
    "fig, axes = plt.subplots(nrows=2, ncols=5, figsize=(23, 11))\n",
    "\n",
    "for idx, ((user, sub_df), ax) in enumerate(zip(new_10users.groupby('target')['time_of_day'],\n",
    "                                               axes.flatten())):\n",
    "    value_counts = sub_df.value_counts().sort_index()\n",
    "    value_counts.plot(kind='bar', ax=ax, color=color_dic[user])\n",
    "    ax.set_title(user)\n",
    "    ax.set_ylabel('Количество сессий')\n",
    "    ax.set_xlabel('Время суток начала сессии')\n",
    "    ax.set_xticklabels(value_counts.index, rotation=0)"
   ]
  },
  {
   "cell_type": "code",
   "execution_count": 35,
   "metadata": {},
   "outputs": [
    {
     "data": {
      "image/png": "[encoded data removed]",
      "text/plain": [
       "<Figure size 1656x792 with 10 Axes>"
      ]
     },
     "metadata": {
      "needs_background": "light"
     },
     "output_type": "display_data"
    }
   ],
   "source": [
    "fig, axes = plt.subplots(nrows=2, ncols=5, figsize=(23, 11))\n",
    "\n",
    "for idx, ((user, sub_df), ax) in enumerate(zip(new_10users.groupby('target')['num_consecutive_sites'],\n",
    "                                               axes.flatten())):\n",
    "    value_counts = sub_df.value_counts().sort_index()\n",
    "    value_counts.plot(kind='bar', ax=ax, color=color_dic[user])\n",
    "    ax.set_title(user)\n",
    "    ax.set_ylabel('Количество сессий')\n",
    "    ax.set_xlabel('Число послед. переходов в рамках одного сайта')\n",
    "    ax.set_xticklabels(value_counts.index, rotation=0)"
   ]
  },
  {
   "cell_type": "code",
   "execution_count": 36,
   "metadata": {},
   "outputs": [
    {
     "data": {
      "image/png": "[encoded data removed]",
      "text/plain": [
       "<Figure size 1656x792 with 10 Axes>"
      ]
     },
     "metadata": {
      "needs_background": "light"
     },
     "output_type": "display_data"
    }
   ],
   "source": [
    "fig, axes = plt.subplots(nrows=2, ncols=5, figsize=(23, 11))\n",
    "\n",
    "for idx, ((user, sub_df), ax) in enumerate(zip(new_10users.groupby('target')['time_diff_std'],\n",
    "                                               axes.flatten())):\n",
    "    sub_df.hist(ax=ax, color=color_dic[user], range=(0, 10))\n",
    "    ax.set_title(user)\n",
    "    ax.set_ylabel('Количество сессий')\n",
    "    ax.set_xlabel('STD времени пребывания на одном сайте')\n",
    "    ax.set_xticklabels(value_counts.index, rotation=0)"
   ]
  },
  {
   "cell_type": "code",
   "execution_count": 37,
   "metadata": {},
   "outputs": [],
   "source": [
    "new_features_150users = feature_engineering(train_data_150users)\n",
    "new_150users = pd.concat((train_data_150users, new_features_150users), axis=1)"
   ]
  },
  {
   "cell_type": "markdown",
   "metadata": {},
   "source": [
    "Ожидаемо, разные пользователи имеют различные характерные времена суток начала сессий.\n",
    "\n",
    "Также было обнаружено, что некоторые пользователи более склонны переходить по ссылкам в рамках одного сайта (Мэри-Кейт и Дик). Мы можем предположить, что для этих пользователей характерна некоторая консервативность.\n",
    "\n",
    "Мною был введён признак стандартного отклонения времени пребывания на одном сайте в рамках одной сессии. Те же юзеры (Мэри-Кейт и Дик) показывают отличные от остальных распределения этого параметра: наблюдается бимодальность.\n",
    "\n",
    "Это может означать либо то, что данные юзеры любят подолгу сидеть на одном сайте, либо это может объясняться тем, что характерная длительность интернет-сёрфинга для них меньше 10 переходов по ссылкам."
   ]
  },
  {
   "cell_type": "markdown",
   "metadata": {},
   "source": [
    "**В конце сохраните в pickle-файлы только те признаки, которые, как Вы предполагаете, помогут идентифицировать пользователя более точно. Это касается и признаков, которые мы вместе создали в начале (*session_timespan, #unique_sites, start_hour, day_of_week*), и Ваших собственных. Можно создать все эти признаки не только для сессий из 10 сайтов, но и для других сочетаний параметров *session_length* и *window_size*.**"
   ]
  },
  {
   "cell_type": "code",
   "execution_count": 38,
   "metadata": {},
   "outputs": [],
   "source": [
    "features = pd.Index(\n",
    "    ('session_timespan', '#unique_sites', 'start_hour',\n",
    "     'day_of_week', 'num_consecutive_sites', 'time_of_day', 'time_diff_std')\n",
    ")\n",
    "\n",
    "selected_features_10users = new_10users[features]\n",
    "selected_features_150users = new_150users[features]"
   ]
  },
  {
   "cell_type": "code",
   "execution_count": 39,
   "metadata": {},
   "outputs": [],
   "source": [
    "with open(os.path.join(PATH_TO_PICKLED, \n",
    "                       'selected_features_10users.pkl'), 'wb') as selected_features_10users_pkl:\n",
    "    pickle.dump(selected_features_10users, selected_features_10users_pkl)\n",
    "with open(os.path.join(PATH_TO_PICKLED, \n",
    "                       'selected_features_150users.pkl'), 'wb') as selected_features_150users_pkl:\n",
    "    pickle.dump(selected_features_150users, selected_features_150users_pkl)"
   ]
  },
  {
   "cell_type": "markdown",
   "metadata": {},
   "source": [
    "### Критерии оценки работы (только для Peer Review в специализации):\n",
    "- Верно ли отображена гистограмма session_timespan из п. 1? (max. 3 балла)\n",
    "- Верно ли отображена гистограмма #unique_sites из п. 2? (max. 3 балла)\n",
    "- Верно ли отображены гистограммы #unique_sites по каждому пользователю из п. 3? (max. 6 баллов)\n",
    "- Верно ли отображена гистограмма start_hour из п. 4? (max. 3 балла)\n",
    "- Верно ли отображены гистограммы start_hour по каждому пользователю из п. 5? (max. 6 баллов)\n",
    "- Верно ли отображена гистограмма day_of_week из п. 6? (max. 3 балла)\n",
    "- Верно ли отображены гистограммы day_of_week по каждому пользователю из п. 7? (max. 6 баллов)\n",
    "- Насколько сделанные выводы в п. 8 соответствуют построенным картинкам? (max. 6 баллов)\n",
    "- Верно ли отображен barplot для 10 популярных сайтов из п. 9? (max. 6 баллов)\n",
    "- Правильно ли посчитана медианная продолжительность сессий в п. 10? (max. 3 балла)\n",
    "- Правильно ли посчитан медианный день недели начала сессии в п. 11? (max. 3 балла)\n",
    "- Правильно ли посчитан медианный час начала сессии в п. 12? (max. 3 балла)\n",
    "- Правильно ли посчитано медианное значение числа уникальных сайтов в сессиях 150 пользователей п. 13? (max. 3 балла)\n",
    "- Есть ли оригинальные построенные признаки и картинки к ним? Оцените также и качество картинок. (max. 8 баллов)"
   ]
  },
  {
   "cell_type": "markdown",
   "metadata": {},
   "source": [
    "## Пути улучшения\n",
    "Что еще можно добавить по 3 части проекта:\n",
    "- IPython-widgets, интерактив и анимация (стоящие статьи по этому ремеслу – [раз](https://habrahabr.ru/post/308162/) и  [два](https://habrahabr.ru/company/ods/blog/323210/))\n",
    "- можно попробовать изобразить исходные данные в некотором пространстве, например, Word2Vec, потом выделить главные компоненты или t-SNE  (только пользуйтесь эффективными реализациями типа [Multicore-TSNE](https://github.com/DmitryUlyanov/Multicore-TSNE), не Sklearn) и раскрасить по целевому классу. Но нет гарантий, что получится что-то значимо отличающееся от каши\n",
    "\n",
    "На следующей неделе мы наконец приступим к обучению моделей классификации. "
   ]
  }
 ],
 "metadata": {
  "anaconda-cloud": {},
  "kernelspec": {
   "display_name": "Python 3",
   "language": "python",
   "name": "python3"
  },
  "language_info": {
   "codemirror_mode": {
    "name": "ipython",
    "version": 3
   },
   "file_extension": ".py",
   "mimetype": "text/x-python",
   "name": "python",
   "nbconvert_exporter": "python",
   "pygments_lexer": "ipython3",
   "version": "3.7.6"
  }
 },
 "nbformat": 4,
 "nbformat_minor": 1
}
