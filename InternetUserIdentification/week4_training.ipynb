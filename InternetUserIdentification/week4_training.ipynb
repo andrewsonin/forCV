{
 "cells": [
  {
   "cell_type": "markdown",
   "metadata": {},
   "source": [
    "<center>\n",
    "<img src=\"https://habrastorage.org/web/677/8e1/337/6778e1337c3d4b159d7e99df94227cb2.jpg\"/>\n",
    "## Специализация \"Машинное обучение и анализ данных\"\n",
    "<center>Автор материала: программист-исследователь Mail.Ru Group, старший преподаватель Факультета Компьютерных Наук ВШЭ [Юрий Кашницкий](https://yorko.github.io/)"
   ]
  },
  {
   "cell_type": "markdown",
   "metadata": {},
   "source": [
    "# <center> Capstone проект №1 <br> Идентификация пользователей по посещенным веб-страницам\n",
    "<img src='http://i.istockimg.com/file_thumbview_approve/21546327/5/stock-illustration-21546327-identification-de-l-utilisateur.jpg'>\n",
    "\n",
    "# <center>Неделя 4.  Сравнение алгоритмов классификации\n",
    "\n",
    "Теперь мы наконец подойдем к обучению моделей классификации, сравним на кросс-валидации несколько алгоритмов, разберемся, какие параметры длины сессии (*session_length* и *window_size*) лучше использовать. Также для выбранного алгоритма построим кривые валидации (как качество классификации зависит от одного из гиперпараметров алгоритма) и кривые обучения (как качество классификации зависит от объема выборки).\n",
    "\n",
    "**План 4 недели:**\n",
    "- Часть 1. Сравнение нескольких алгоритмов на сессиях из 10 сайтов\n",
    "- Часть 2. Выбор параметров – длины сессии и ширины окна\n",
    "- Часть 3. Идентификация  конкретного пользователя и кривые обучения\n",
    " \n",
    "\n",
    "\n",
    "**В этой части проекта Вам могут быть полезны видеозаписи следующих лекций курса \"Обучение на размеченных данных\":**\n",
    "   - [Линейная классификация](https://www.coursera.org/learn/supervised-learning/lecture/jqLcO/linieinaia-klassifikatsiia)\n",
    "   - [Сравнение алгоритмов и выбор гиперпараметров](https://www.coursera.org/learn/supervised-learning/lecture/aF79U/sravnieniie-alghoritmov-i-vybor-ghipierparamietrov)\n",
    "   - [Кросс-валидация. Sklearn.cross_validation](https://www.coursera.org/learn/supervised-learning/lecture/XbHEk/kross-validatsiia-sklearn-cross-validation)\n",
    "   - [Линейные модели. Sklearn.linear_model. Классификация](https://www.coursera.org/learn/supervised-learning/lecture/EBg9t/linieinyie-modieli-sklearn-linear-model-klassifikatsiia)\n",
    "   - и многие другие\n"
   ]
  },
  {
   "cell_type": "markdown",
   "metadata": {},
   "source": [
    "### Задание\n",
    "1. Заполните код в этой тетрадке \n",
    "2. Если вы проходите специализацию Яндеса и МФТИ, пошлите файл с ответами в соответствующем Programming Assignment. <br> Если вы проходите курс ODS, выберите ответы в [веб-форме](https://docs.google.com/forms/d/12VB7kmzDoSVzSpQNaJp0tR-2t8K8PynQopP3dypf7i4).  "
   ]
  },
  {
   "cell_type": "code",
   "execution_count": 1,
   "metadata": {},
   "outputs": [],
   "source": [
    "# pip install watermark\n",
    "%load_ext watermark"
   ]
  },
  {
   "cell_type": "code",
   "execution_count": 2,
   "metadata": {},
   "outputs": [
    {
     "name": "stdout",
     "output_type": "stream",
     "text": [
      "CPython 3.7.5\n",
      "IPython 7.10.2\n",
      "\n",
      "numpy 1.17.4\n",
      "scipy 1.3.1\n",
      "pandas 0.25.3\n",
      "matplotlib 3.1.1\n",
      "statsmodels 0.10.1\n",
      "sklearn 0.21.3\n",
      "\n",
      "compiler   : Clang 4.0.1 (tags/RELEASE_401/final)\n",
      "system     : Darwin\n",
      "release    : 19.2.0\n",
      "machine    : x86_64\n",
      "processor  : i386\n",
      "CPU cores  : 12\n",
      "interpreter: 64bit\n",
      "Git hash   :\n"
     ]
    }
   ],
   "source": [
    "%watermark -v -m -p numpy,scipy,pandas,matplotlib,statsmodels,sklearn -g"
   ]
  },
  {
   "cell_type": "code",
   "execution_count": 3,
   "metadata": {},
   "outputs": [],
   "source": [
    "import itertools\n",
    "import multiprocessing as mp\n",
    "import os\n",
    "import pickle\n",
    "import typing\n",
    "\n",
    "from time import time\n",
    "from warnings import filterwarnings\n",
    "\n",
    "import numpy as np\n",
    "import pandas as pd\n",
    "\n",
    "from matplotlib import pyplot as plt\n",
    "from sklearn.ensemble import RandomForestClassifier\n",
    "from sklearn.linear_model import LogisticRegression, LogisticRegressionCV\n",
    "from sklearn.metrics import accuracy_score\n",
    "from sklearn.model_selection import learning_curve\n",
    "from sklearn.model_selection import train_test_split, cross_val_score, StratifiedKFold, GridSearchCV\n",
    "from sklearn.neighbors import KNeighborsClassifier\n",
    "from sklearn.svm import LinearSVC\n",
    "\n",
    "%matplotlib inline\n",
    "pd.set_option('display.max.columns', 25)\n",
    "filterwarnings('ignore')"
   ]
  },
  {
   "cell_type": "code",
   "execution_count": 4,
   "metadata": {},
   "outputs": [],
   "source": [
    "PATH_TO_DATA = 'Data/Raw/'\n",
    "PATH_TO_PICKLED = 'Data/Pickled/'\n",
    "PATH_TO_MERGED = 'Data/Merged/'\n",
    "PATH_TO_ANSWERS = 'Answers/'"
   ]
  },
  {
   "cell_type": "markdown",
   "metadata": {},
   "source": [
    "## Часть 1. Сравнение нескольких алгоритмов на сессиях из 10 сайтов"
   ]
  },
  {
   "cell_type": "markdown",
   "metadata": {},
   "source": [
    "**Загрузим сериализованные ранее объекты *X_sparse_10users* и *y_10users*, соответствующие обучающей выборке для 10 пользователей.**"
   ]
  },
  {
   "cell_type": "code",
   "execution_count": 5,
   "metadata": {},
   "outputs": [],
   "source": [
    "with open(os.path.join(PATH_TO_PICKLED, 'X_sparse_10users.pkl'), 'rb') as X_sparse_10users_pkl:\n",
    "    X_sparse_10users = pickle.load(X_sparse_10users_pkl)\n",
    "with open(os.path.join(PATH_TO_PICKLED, 'y_10users.pkl'), 'rb') as y_10users_pkl:\n",
    "    y_10users = pickle.load(y_10users_pkl)"
   ]
  },
  {
   "cell_type": "markdown",
   "metadata": {},
   "source": [
    "**Здесь более 14 тысяч сессий и почти 5 тысяч уникальных посещенных сайтов.**"
   ]
  },
  {
   "cell_type": "code",
   "execution_count": 6,
   "metadata": {},
   "outputs": [
    {
     "data": {
      "text/plain": [
       "(14061, 4913)"
      ]
     },
     "execution_count": 6,
     "metadata": {},
     "output_type": "execute_result"
    }
   ],
   "source": [
    "X_sparse_10users.shape"
   ]
  },
  {
   "cell_type": "markdown",
   "metadata": {},
   "source": [
    "**Разобьем выборку на 2 части. На одной будем проводить кросс-валидацию, на второй – оценивать модель, обученную после кросс-валидации.**"
   ]
  },
  {
   "cell_type": "code",
   "execution_count": 7,
   "metadata": {},
   "outputs": [],
   "source": [
    "X_train, X_valid, y_train, y_valid = train_test_split(\n",
    "    X_sparse_10users, y_10users,\n",
    "    test_size=0.3,\n",
    "    random_state=17,\n",
    "    stratify=y_10users\n",
    ")"
   ]
  },
  {
   "cell_type": "markdown",
   "metadata": {},
   "source": [
    "**Зададим заранее тип кросс-валидации: 3-кратная, с перемешиванием, параметр random_state=17 – для воспроизводимости.**"
   ]
  },
  {
   "cell_type": "code",
   "execution_count": 8,
   "metadata": {},
   "outputs": [],
   "source": [
    "skf = StratifiedKFold(n_splits=3, shuffle=True, random_state=17)"
   ]
  },
  {
   "cell_type": "markdown",
   "metadata": {},
   "source": [
    "**Вспомогательная функция для отрисовки кривых валидации после запуска GridSearchCV (или RandomizedCV).**"
   ]
  },
  {
   "cell_type": "code",
   "execution_count": 9,
   "metadata": {},
   "outputs": [],
   "source": [
    "def plot_validation_curves(param_values, grid_cv_results_):\n",
    "\n",
    "    train_mu = grid_cv_results_['mean_train_score']\n",
    "    train_std = grid_cv_results_['std_train_score']\n",
    "\n",
    "    valid_mu = grid_cv_results_['mean_test_score']\n",
    "    valid_std = grid_cv_results_['std_test_score']\n",
    "\n",
    "    train_line = plt.plot(\n",
    "        param_values, train_mu, '-',\n",
    "        label='train',\n",
    "        color='green'\n",
    "    )\n",
    "    valid_line = plt.plot(\n",
    "        param_values, valid_mu, '-',\n",
    "        label='test',\n",
    "        color='red'\n",
    "    )\n",
    "    plt.fill_between(\n",
    "        param_values, train_mu - train_std, train_mu + train_std,\n",
    "        edgecolor='none',\n",
    "        facecolor=train_line[0].get_color(),\n",
    "        alpha=0.2\n",
    "    )\n",
    "    plt.fill_between(\n",
    "        param_values, valid_mu - valid_std, valid_mu + valid_std,\n",
    "        edgecolor='none',\n",
    "        facecolor=valid_line[0].get_color(),\n",
    "        alpha=0.2 \n",
    "    )\n",
    "    plt.legend()\n",
    "\n",
    "\n",
    "def acc_to_str(train_acc: float, valid_acc: float) -> str:\n",
    "    return f'{train_acc:.3} {valid_acc:.3}'\n",
    "\n",
    "\n",
    "def write_answer(answer: str, file_name: str) -> type(None):\n",
    "    with open(os.path.join(PATH_TO_ANSWERS, file_name), 'w') as out:\n",
    "        out.write(answer)"
   ]
  },
  {
   "cell_type": "markdown",
   "metadata": {},
   "source": [
    "**1. Обучите `KNeighborsClassifier` со 100 ближайшими соседями (остальные параметры оставьте по умолчанию, только `n_jobs`=-1 для распараллеливания) и посмотрите на долю правильных ответов на 3-кратной кросс-валидации (ради воспроизводимости используйте для этого объект `StratifiedKFold` `skf`) по выборке `(X_train, y_train)` и отдельно на выборке `(X_valid, y_valid)`.**"
   ]
  },
  {
   "cell_type": "code",
   "execution_count": 10,
   "metadata": {},
   "outputs": [],
   "source": [
    "knn = KNeighborsClassifier(100, n_jobs=-1)"
   ]
  },
  {
   "cell_type": "code",
   "execution_count": 11,
   "metadata": {},
   "outputs": [
    {
     "name": "stdout",
     "output_type": "stream",
     "text": [
      "CPU times: user 12.1 s, sys: 3.75 s, total: 15.9 s\n",
      "Wall time: 3.96 s\n"
     ]
    }
   ],
   "source": [
    "%%time\n",
    "train_acc = cross_val_score(knn, X_train, y_train, cv=skf).mean()\n",
    "knn.fit(X_train, y_train)\n",
    "valid_acc = accuracy_score(knn.predict(X_valid), y_valid)"
   ]
  },
  {
   "cell_type": "markdown",
   "metadata": {},
   "source": [
    "**<font color='red'>Вопрос 1. </font> Посчитайте доли правильных ответов для KNeighborsClassifier на кросс-валидации и отложенной выборке. Округлите каждое до 3 знаков после запятой и введите через пробел.**"
   ]
  },
  {
   "cell_type": "code",
   "execution_count": 12,
   "metadata": {},
   "outputs": [
    {
     "name": "stdout",
     "output_type": "stream",
     "text": [
      "0.562 0.584\n"
     ]
    }
   ],
   "source": [
    "__to_write = acc_to_str(train_acc, valid_acc)\n",
    "\n",
    "write_answer(__to_write, 'week4_1.txt')\n",
    "\n",
    "print(__to_write)"
   ]
  },
  {
   "cell_type": "markdown",
   "metadata": {},
   "source": [
    "**2. Обучите случайный лес (`RandomForestClassifier`) из 100 деревьев (для воспроизводимости `random_state`=17). Посмотрите на OOB-оценку (для этого надо сразу установить `oob_score`=True) и на долю правильных ответов на выборке `(X_valid, y_valid)`. Для распараллеливания задайте `n_jobs`=-1.**"
   ]
  },
  {
   "cell_type": "code",
   "execution_count": 13,
   "metadata": {},
   "outputs": [
    {
     "name": "stdout",
     "output_type": "stream",
     "text": [
      "CPU times: user 16.4 s, sys: 136 ms, total: 16.5 s\n",
      "Wall time: 1.84 s\n"
     ]
    }
   ],
   "source": [
    "%%time\n",
    "forest = RandomForestClassifier(100, n_jobs=-1, random_state=17, oob_score=True).fit(X_train, y_train)"
   ]
  },
  {
   "cell_type": "code",
   "execution_count": 14,
   "metadata": {},
   "outputs": [],
   "source": [
    "oob_score = forest.oob_score_\n",
    "valid_acc = accuracy_score(forest.predict(X_valid), y_valid)"
   ]
  },
  {
   "cell_type": "markdown",
   "metadata": {},
   "source": [
    "**<font color='red'>Вопрос 2. </font> Посчитайте доли правильных ответов для `RandomForestClassifier` при Out-of-Bag оценке и на отложенной выборке. Округлите каждое до 3 знаков после запятой и введите через пробел.**"
   ]
  },
  {
   "cell_type": "code",
   "execution_count": 15,
   "metadata": {},
   "outputs": [
    {
     "name": "stdout",
     "output_type": "stream",
     "text": [
      "0.72 0.734\n"
     ]
    }
   ],
   "source": [
    "__to_write = acc_to_str(oob_score, valid_acc)\n",
    "\n",
    "write_answer(__to_write, 'week4_2.txt')\n",
    "\n",
    "print(__to_write)"
   ]
  },
  {
   "cell_type": "markdown",
   "metadata": {},
   "source": [
    "**3. Обучите логистическую регрессию (`LogisticRegression`) с параметром `C` по умолчанию и `random_state`=17 (для воспроизводимости). Посмотрите на долю правильных ответов на кросс-валидации (используйте объект `skf`, созданный ранее) и на выборке `(X_valid, y_valid)`. Для распараллеливания задайте `n_jobs=-1`.**"
   ]
  },
  {
   "cell_type": "code",
   "execution_count": 16,
   "metadata": {},
   "outputs": [],
   "source": [
    "logit = LogisticRegression(random_state=17, n_jobs=-1)"
   ]
  },
  {
   "cell_type": "code",
   "execution_count": 17,
   "metadata": {},
   "outputs": [
    {
     "name": "stdout",
     "output_type": "stream",
     "text": [
      "CPU times: user 4.16 s, sys: 19 ms, total: 4.18 s\n",
      "Wall time: 1.4 s\n"
     ]
    }
   ],
   "source": [
    "%%time\n",
    "train_acc = cross_val_score(logit, X_train, y_train, cv=skf).mean()\n",
    "logit.fit(X_train, y_train)\n",
    "valid_acc = accuracy_score(logit.predict(X_valid), y_valid)"
   ]
  },
  {
   "cell_type": "code",
   "execution_count": 18,
   "metadata": {},
   "outputs": [
    {
     "name": "stdout",
     "output_type": "stream",
     "text": [
      "0.763 0.782\n"
     ]
    }
   ],
   "source": [
    "__to_write = acc_to_str(train_acc, valid_acc)\n",
    "\n",
    "write_answer(__to_write, 'week4_3.txt')\n",
    "\n",
    "print(__to_write)"
   ]
  },
  {
   "cell_type": "markdown",
   "metadata": {},
   "source": [
    "**Почитайте документацию к [LogisticRegressionCV](http://scikit-learn.org/stable/modules/generated/sklearn.linear_model.LogisticRegressionCV.html). Логистическая регрессия хорошо изучена, и для нее существуют алгоритмы быстрого подбора параметра регуляризации `C` (быстрее, чем с `GridSearchCV`).**\n",
    "\n",
    "**С помощью `LogisticRegressionCV` подберите параметр `C` для `LogisticRegression` сначала в широком диапазоне: 10 значений от 1e-4 до 1e2, используйте `logspace` из `NumPy`. Укажите у `LogisticRegressionCV` параметры `multi_class`='multinomial' и `random_state`=17. Для кросс-валидации используйте объект `skf`, созданный ранее. Для распараллеливания задайте `n_jobs=-1`.**\n",
    "\n",
    "**Нарисуйте кривые валидации по параметру `C`.**"
   ]
  },
  {
   "cell_type": "code",
   "execution_count": 19,
   "metadata": {},
   "outputs": [
    {
     "name": "stdout",
     "output_type": "stream",
     "text": [
      "CPU times: user 4.24 s, sys: 175 ms, total: 4.42 s\n",
      "Wall time: 6.98 s\n"
     ]
    }
   ],
   "source": [
    "%%time\n",
    "logit_c_values1 = np.logspace(-4, 2, 10)\n",
    "\n",
    "logit_grid_searcher1 = LogisticRegressionCV(\n",
    "    logit_c_values1,\n",
    "    multi_class='multinomial',\n",
    "    random_state=17,\n",
    "    n_jobs=-1,\n",
    "    cv=skf\n",
    ").fit(X_train, y_train)"
   ]
  },
  {
   "cell_type": "markdown",
   "metadata": {},
   "source": [
    "Средние значения доли правильных ответов на кросс-валидации по каждому из 10 параметров `C`."
   ]
  },
  {
   "cell_type": "code",
   "execution_count": 20,
   "metadata": {},
   "outputs": [],
   "source": [
    "logit_mean_cv_scores1 = next(iter(logit_grid_searcher1.scores_.values())).mean(0)"
   ]
  },
  {
   "cell_type": "markdown",
   "metadata": {},
   "source": [
    "Выведите лучшее значение доли правильных ответов на кросс-валидации и соответствующее значение `C`."
   ]
  },
  {
   "cell_type": "code",
   "execution_count": 21,
   "metadata": {},
   "outputs": [
    {
     "name": "stdout",
     "output_type": "stream",
     "text": [
      "Best accuracy:\t\t0.763\n",
      "Corresponding C:\t4.64\n"
     ]
    }
   ],
   "source": [
    "i = logit_mean_cv_scores1.argmax()\n",
    "\n",
    "print(\n",
    "    f'Best accuracy:\\t\\t{logit_mean_cv_scores1[i]:.3}\\n'\n",
    "    f'Corresponding C:\\t{logit_c_values1[i]:.3}'\n",
    ")"
   ]
  },
  {
   "cell_type": "markdown",
   "metadata": {},
   "source": [
    "Нарисуйте график зависимости доли правильных ответов на кросс-валидации от `C`."
   ]
  },
  {
   "cell_type": "code",
   "execution_count": 22,
   "metadata": {},
   "outputs": [
    {
     "data": {
      "image/png": "[encoded data removed]",
      "text/plain": [
       "<Figure size 432x288 with 1 Axes>"
      ]
     },
     "metadata": {
      "needs_background": "light"
     },
     "output_type": "display_data"
    }
   ],
   "source": [
    "plt.plot(logit_c_values1, logit_mean_cv_scores1)\n",
    "plt.show()"
   ]
  },
  {
   "cell_type": "markdown",
   "metadata": {},
   "source": [
    "**Теперь то же самое, только значения параметра `C` перебирайте в диапазоне `np.linspace`(0.1, 7, 20). Опять нарисуйте кривые валидации, определите максимальное значение доли правильных ответов на кросс-валидации.**"
   ]
  },
  {
   "cell_type": "code",
   "execution_count": 23,
   "metadata": {},
   "outputs": [
    {
     "name": "stdout",
     "output_type": "stream",
     "text": [
      "CPU times: user 4.9 s, sys: 166 ms, total: 5.07 s\n",
      "Wall time: 19 s\n"
     ]
    }
   ],
   "source": [
    "%%time\n",
    "logit_c_values2 = np.linspace(0.1, 7, 20)\n",
    "\n",
    "logit_grid_searcher2 = LogisticRegressionCV(\n",
    "    logit_c_values2,\n",
    "    multi_class='multinomial',\n",
    "    random_state=17,\n",
    "    n_jobs=-1,\n",
    "    cv=skf\n",
    ").fit(X_train, y_train)"
   ]
  },
  {
   "cell_type": "markdown",
   "metadata": {},
   "source": [
    "Средние значения доли правильных ответов на кросс-валидации по каждому из 10 параметров `C`."
   ]
  },
  {
   "cell_type": "code",
   "execution_count": 24,
   "metadata": {},
   "outputs": [],
   "source": [
    "logit_mean_cv_scores2 = next(iter(logit_grid_searcher2.scores_.values())).mean(0)"
   ]
  },
  {
   "cell_type": "markdown",
   "metadata": {},
   "source": [
    "Выведите лучшее значение доли правильных ответов на кросс-валидации и соответствующее значение `C`."
   ]
  },
  {
   "cell_type": "code",
   "execution_count": 25,
   "metadata": {},
   "outputs": [
    {
     "name": "stdout",
     "output_type": "stream",
     "text": [
      "Best accuracy:\t\t0.764\n",
      "Corresponding C:\t1.55\n"
     ]
    }
   ],
   "source": [
    "i = logit_mean_cv_scores2.argmax()\n",
    "best_logit_C = logit_c_values2[i]\n",
    "\n",
    "print(\n",
    "    f'Best accuracy:\\t\\t{logit_mean_cv_scores2[i]:.3}\\n'\n",
    "    f'Corresponding C:\\t{best_logit_C:.3}'\n",
    ")"
   ]
  },
  {
   "cell_type": "markdown",
   "metadata": {},
   "source": [
    "Нарисуйте график зависимости доли правильных ответов на кросс-валидации от `C`."
   ]
  },
  {
   "cell_type": "code",
   "execution_count": 26,
   "metadata": {},
   "outputs": [
    {
     "data": {
      "image/png": "[encoded data removed]",
      "text/plain": [
       "<Figure size 432x288 with 1 Axes>"
      ]
     },
     "metadata": {
      "needs_background": "light"
     },
     "output_type": "display_data"
    }
   ],
   "source": [
    "plt.plot(logit_c_values2, logit_mean_cv_scores2)\n",
    "plt.show()"
   ]
  },
  {
   "cell_type": "markdown",
   "metadata": {},
   "source": [
    "Выведите долю правильных ответов на выборке `(X_valid, y_valid)` для логистической регрессии с лучшим найденным значением `C`."
   ]
  },
  {
   "cell_type": "code",
   "execution_count": 27,
   "metadata": {},
   "outputs": [
    {
     "name": "stdout",
     "output_type": "stream",
     "text": [
      "0.784\n"
     ]
    }
   ],
   "source": [
    "logit_cv_acc = accuracy_score(\n",
    "    LogisticRegression(\n",
    "        C=logit_c_values2[i],\n",
    "        n_jobs=-1\n",
    "    ).fit(X_train, y_train).predict(X_valid),\n",
    "    y_valid\n",
    ")\n",
    "print(f'{logit_cv_acc:.3}')"
   ]
  },
  {
   "cell_type": "markdown",
   "metadata": {},
   "source": [
    "**<font color='red'>Вопрос 3. </font>Посчитайте доли правильных ответов для `logit_grid_searcher2` на кросс-валидации для лучшего значения параметра `C` и на отложенной выборке. Округлите каждое до 3 знаков после запятой и выведите через пробел.**"
   ]
  },
  {
   "cell_type": "code",
   "execution_count": 28,
   "metadata": {},
   "outputs": [
    {
     "name": "stdout",
     "output_type": "stream",
     "text": [
      "0.885 0.779\n"
     ]
    }
   ],
   "source": [
    "print(\n",
    "    acc_to_str(\n",
    "        logit_grid_searcher2.score(X_train, y_train),\n",
    "        logit_grid_searcher2.score(X_valid, y_valid)\n",
    "    )\n",
    ")"
   ]
  },
  {
   "cell_type": "markdown",
   "metadata": {},
   "source": [
    "**4. Обучите линейный SVM (`LinearSVC`) с параметром `C`=1 и `random_state`=17 (для воспроизводимости). Посмотрите на долю правильных ответов на кросс-валидации (используйте объект `skf`, созданный ранее) и на выборке `(X_valid, y_valid)`.**"
   ]
  },
  {
   "cell_type": "code",
   "execution_count": 29,
   "metadata": {},
   "outputs": [
    {
     "name": "stdout",
     "output_type": "stream",
     "text": [
      "CPU times: user 4.75 s, sys: 27.3 ms, total: 4.78 s\n",
      "Wall time: 4.51 s\n"
     ]
    }
   ],
   "source": [
    "%%time\n",
    "svm = LinearSVC(random_state=17).fit(X_train, y_train)\n",
    "\n",
    "train_acc = cross_val_score(svm, X_train, y_train, cv=skf).mean()\n",
    "valid_acc = accuracy_score(svm.predict(X_valid), y_valid)"
   ]
  },
  {
   "cell_type": "code",
   "execution_count": 30,
   "metadata": {},
   "outputs": [
    {
     "name": "stdout",
     "output_type": "stream",
     "text": [
      "0.756 0.777\n"
     ]
    }
   ],
   "source": [
    "__to_write = acc_to_str(train_acc, valid_acc)\n",
    "\n",
    "write_answer(__to_write, 'week4_4.txt')\n",
    "\n",
    "print(__to_write)"
   ]
  },
  {
   "cell_type": "markdown",
   "metadata": {},
   "source": [
    "**С помощью `GridSearchCV` подберите параметр `C` для SVM сначала в широком диапазоне: 10 значений от 1e-4 до 1e4, используйте `linspace` из NumPy. Нарисуйте кривые валидации.**"
   ]
  },
  {
   "cell_type": "code",
   "execution_count": 31,
   "metadata": {},
   "outputs": [
    {
     "name": "stdout",
     "output_type": "stream",
     "text": [
      "CPU times: user 2.11 s, sys: 14 ms, total: 2.13 s\n",
      "Wall time: 9.97 s\n"
     ]
    }
   ],
   "source": [
    "%%time\n",
    "svm_params1 = {'C': np.linspace(1e-4, 1e4, 10)}\n",
    "\n",
    "svm_grid_searcher1 = GridSearchCV(\n",
    "    svm, svm_params1,\n",
    "    cv=skf,\n",
    "    return_train_score=True,\n",
    "    n_jobs=-1\n",
    ").fit(X_train, y_train)"
   ]
  },
  {
   "cell_type": "markdown",
   "metadata": {},
   "source": [
    "Выведите лучшее значение доли правильных ответов на кросс-валидации и соответствующее значение `C`."
   ]
  },
  {
   "cell_type": "code",
   "execution_count": 32,
   "metadata": {},
   "outputs": [
    {
     "name": "stdout",
     "output_type": "stream",
     "text": [
      "Best accuracy:\t\t0.692\n",
      "Corresponding C:\t1.11e+03\n"
     ]
    }
   ],
   "source": [
    "__acc_array = svm_grid_searcher1.cv_results_['mean_test_score']\n",
    "i = __acc_array.argmax()\n",
    "\n",
    "print(\n",
    "    f'Best accuracy:\\t\\t{__acc_array[i]:.3}\\n'\n",
    "    f'Corresponding C:\\t{svm_grid_searcher1.cv_results_[\"param_C\"][i]:.3}'\n",
    ")"
   ]
  },
  {
   "cell_type": "markdown",
   "metadata": {},
   "source": [
    "Нарисуйте график зависимости доли правильных ответов на кросс-валидации от `C`."
   ]
  },
  {
   "cell_type": "code",
   "execution_count": 33,
   "metadata": {},
   "outputs": [
    {
     "data": {
      "image/png": "[encoded data removed]",
      "text/plain": [
       "<Figure size 432x288 with 1 Axes>"
      ]
     },
     "metadata": {
      "needs_background": "light"
     },
     "output_type": "display_data"
    }
   ],
   "source": [
    "plot_validation_curves(svm_params1['C'], svm_grid_searcher1.cv_results_)"
   ]
  },
  {
   "cell_type": "markdown",
   "metadata": {},
   "source": [
    "**Но мы помним, что с параметром регуляризации по умолчанию (С=1) на кросс-валидации доля правильных ответов выше. Это тот случай (не редкий), когда можно ошибиться и перебирать параметры не в том диапазоне (причина в том, что мы взяли равномерную сетку на большом интервале и упустили действительно хороший интервал значений `C`). Здесь намного осмысленней подбирать `C` в районе 1, к тому же, так модель быстрее обучается, чем при больших `C`. **\n",
    "\n",
    "**С помощью `GridSearchCV` подберите параметр `C` для SVM в диапазоне (1e-3, 1), 30 значений, используйте `linspace` из NumPy. Нарисуйте кривые валидации.**"
   ]
  },
  {
   "cell_type": "code",
   "execution_count": 34,
   "metadata": {},
   "outputs": [
    {
     "name": "stdout",
     "output_type": "stream",
     "text": [
      "CPU times: user 1.07 s, sys: 26.7 ms, total: 1.1 s\n",
      "Wall time: 15.3 s\n"
     ]
    }
   ],
   "source": [
    "%%time\n",
    "svm_params2 = {'C': np.linspace(1e-3, 1, 30)}\n",
    "\n",
    "svm_grid_searcher2 = GridSearchCV(\n",
    "    svm, svm_params2,\n",
    "    cv=skf,\n",
    "    return_train_score=True,\n",
    "    n_jobs=-1\n",
    ").fit(X_train, y_train)"
   ]
  },
  {
   "cell_type": "markdown",
   "metadata": {},
   "source": [
    "Выведите лучшее значение доли правильных ответов на кросс-валидации и соответствующее значение `C`."
   ]
  },
  {
   "cell_type": "code",
   "execution_count": 35,
   "metadata": {},
   "outputs": [
    {
     "name": "stdout",
     "output_type": "stream",
     "text": [
      "Best accuracy:\t\t0.765\n",
      "Corresponding C:\t0.242\n"
     ]
    }
   ],
   "source": [
    "__acc_array = svm_grid_searcher2.cv_results_['mean_test_score']\n",
    "i = __acc_array.argmax()\n",
    "best_C = svm_grid_searcher2.cv_results_[\"param_C\"][i]\n",
    "\n",
    "print(\n",
    "    f'Best accuracy:\\t\\t{__acc_array[i]:.3}\\n'\n",
    "    f'Corresponding C:\\t{best_C:.3}'\n",
    ")"
   ]
  },
  {
   "cell_type": "markdown",
   "metadata": {},
   "source": [
    "Нарисуйте график зависимости доли правильных ответов на кросс-валидации от С."
   ]
  },
  {
   "cell_type": "code",
   "execution_count": 36,
   "metadata": {},
   "outputs": [
    {
     "data": {
      "image/png": "[encoded data removed]",
      "text/plain": [
       "<Figure size 432x288 with 1 Axes>"
      ]
     },
     "metadata": {
      "needs_background": "light"
     },
     "output_type": "display_data"
    }
   ],
   "source": [
    "plot_validation_curves(svm_params2['C'], svm_grid_searcher2.cv_results_)"
   ]
  },
  {
   "cell_type": "markdown",
   "metadata": {},
   "source": [
    "Выведите долю правильных ответов на выборке `(X_valid, y_valid)` для `LinearSVC` с лучшим найденным значением `C`."
   ]
  },
  {
   "cell_type": "code",
   "execution_count": 37,
   "metadata": {},
   "outputs": [
    {
     "name": "stdout",
     "output_type": "stream",
     "text": [
      "0.784\n"
     ]
    }
   ],
   "source": [
    "svm = LinearSVC(C=best_C, random_state=17).fit(X_train, y_train)\n",
    "\n",
    "valid_acc = accuracy_score(svm.predict(X_valid), y_valid)\n",
    "print(f'{valid_acc:.3}')"
   ]
  },
  {
   "cell_type": "markdown",
   "metadata": {},
   "source": [
    "**<font color='red'>Вопрос 4. </font> Посчитайте доли правильных ответов для `svm_grid_searcher2` на кросс-валидации для лучшего значения параметра `C` и на отложенной выборке. Округлите каждое до 3 знаков после запятой и выведите через пробел.**"
   ]
  },
  {
   "cell_type": "code",
   "execution_count": 38,
   "metadata": {},
   "outputs": [
    {
     "name": "stdout",
     "output_type": "stream",
     "text": [
      "0.879 0.784\n"
     ]
    }
   ],
   "source": [
    "print(\n",
    "    acc_to_str(\n",
    "        svm_grid_searcher2.score(X_train, y_train),\n",
    "        svm_grid_searcher2.score(X_valid, y_valid)\n",
    "    )\n",
    ")"
   ]
  },
  {
   "cell_type": "code",
   "execution_count": 39,
   "metadata": {},
   "outputs": [
    {
     "data": {
      "text/plain": [
       "LinearSVC(C=0.24213793103448275, class_weight=None, dual=True,\n",
       "          fit_intercept=True, intercept_scaling=1, loss='squared_hinge',\n",
       "          max_iter=1000, multi_class='ovr', penalty='l2', random_state=17,\n",
       "          tol=0.0001, verbose=0)"
      ]
     },
     "execution_count": 39,
     "metadata": {},
     "output_type": "execute_result"
    }
   ],
   "source": [
    "svm_grid_searcher2.best_estimator_"
   ]
  },
  {
   "cell_type": "markdown",
   "metadata": {},
   "source": [
    "## Часть 2. Выбор параметров – длины сессии и ширины окна"
   ]
  },
  {
   "cell_type": "markdown",
   "metadata": {},
   "source": [
    "**Возьмем `LinearSVC`, показавший лучшее качество на кросс-валидации в 1 части, и проверим его работу еще на 8 выборках для 10 пользователей (с разными сочетаниями параметров *session_length* и *window_size*). Поскольку тут уже вычислений побольше, мы не будем каждый раз заново подбирать параметр регуляризации `C`.**\n",
    "\n",
    "**Определите функцию `model_assessment`, ее документация описана ниже. Обратите внимание на все детали. Например, на то, что разбиение  выборки с `train_test_split` должно быть стратифицированным. Не теряйте нигде `random_state`.**"
   ]
  },
  {
   "cell_type": "code",
   "execution_count": 40,
   "metadata": {},
   "outputs": [],
   "source": [
    "def model_assessment(estimator, path_to_X_pickle, path_to_y_pickle, cv, random_state=17, test_size=0.3):\n",
    "    '''\n",
    "    Estimates CV-accuracy for (1 - test_size) share of (X_sparse, y) \n",
    "    loaded from path_to_X_pickle and path_to_y_pickle and holdout accuracy for (test_size) share of (X_sparse, y).\n",
    "    The split is made with stratified train_test_split with params random_state and test_size.\n",
    "    \n",
    "    :param estimator – Scikit-learn estimator (classifier or regressor)\n",
    "    :param path_to_X_pickle – path to pickled sparse X (instances and their features)\n",
    "    :param path_to_y_pickle – path to pickled y (responses)\n",
    "    :param cv – cross-validation as in cross_val_score (use StratifiedKFold here)\n",
    "    :param random_state –  for train_test_split\n",
    "    :param test_size –  for train_test_split\n",
    "    \n",
    "    :returns mean CV-accuracy for (X_train, y_train) and accuracy for (X_valid, y_valid) where (X_train, y_train)\n",
    "    and (X_valid, y_valid) are (1 - test_size) and (testsize) shares of (X_sparse, y).\n",
    "    '''\n",
    "\n",
    "    __time = time()\n",
    "    X = pd.read_pickle(path_to_X_pickle)\n",
    "    y = pd.read_pickle(path_to_y_pickle)\n",
    "    X_train, X_valid, y_train, y_valid = train_test_split(\n",
    "        X, y,\n",
    "        test_size=test_size,\n",
    "        random_state=random_state,\n",
    "        stratify=y\n",
    "    )\n",
    "    del X, y\n",
    "\n",
    "    estimator.fit(X_train, y_train)\n",
    "\n",
    "    train_acc = cross_val_score(estimator, X_train, y_train, cv=cv).mean()\n",
    "    valid_acc = accuracy_score(estimator.predict(X_valid), y_valid)\n",
    "    return train_acc, valid_acc, time() - __time"
   ]
  },
  {
   "cell_type": "markdown",
   "metadata": {},
   "source": [
    "**Убедитесь, что функция работает.**"
   ]
  },
  {
   "cell_type": "code",
   "execution_count": 41,
   "metadata": {},
   "outputs": [
    {
     "data": {
      "text/plain": [
       "(0.7649865831742932, 0.7835980090068737, 2.471039056777954)"
      ]
     },
     "execution_count": 41,
     "metadata": {},
     "output_type": "execute_result"
    }
   ],
   "source": [
    "model_assessment(\n",
    "    svm_grid_searcher2.best_estimator_,\n",
    "    os.path.join(PATH_TO_PICKLED, 'X_sparse_10users.pkl'),\n",
    "    os.path.join(PATH_TO_PICKLED, 'y_10users.pkl'),\n",
    "    skf,\n",
    "    random_state=17,\n",
    "    test_size=0.3\n",
    ")"
   ]
  },
  {
   "cell_type": "markdown",
   "metadata": {},
   "source": [
    "**Примените функцию *model_assessment* для лучшего алгоритма из предыдущей части (а именно, `svm_grid_searcher2.best_estimator_`) и 9 выборок вида с разными сочетаниями параметров *session_length* и *window_size* для 10 пользователей. Выведите в цикле параметры *session_length* и *window_size*, а также результат вывода функции *model_assessment*. \n",
    "Удобно сделать так, чтоб *model_assessment* возвращала 3-им элементом время, за которое она выполнилась. На моем ноуте этот участок кода выполнился за 20 секунд. Но со 150 пользователями каждая итерация занимает уже несколько минут.**"
   ]
  },
  {
   "cell_type": "markdown",
   "metadata": {},
   "source": [
    "Здесь для удобства стоит создать копии ранее созданных pickle-файлов X_sparse_10users.pkl, X_sparse_150users.pkl, y_10users.pkl и y_150users.pkl, добавив к их названиям s10_w10, что означает длину сессии 10 и ширину окна 10. "
   ]
  },
  {
   "cell_type": "code",
   "execution_count": 42,
   "metadata": {},
   "outputs": [],
   "source": [
    "for prefix in ('X_sparse_10users', 'X_sparse_150users', 'y_10users', 'y_150users'):\n",
    "    symlink = os.path.join(PATH_TO_PICKLED, prefix) + '_s10_w10.pkl'\n",
    "    if os.path.isfile(symlink):\n",
    "        os.remove(symlink)\n",
    "    os.symlink(prefix + '.pkl', symlink)"
   ]
  },
  {
   "cell_type": "code",
   "execution_count": 43,
   "metadata": {},
   "outputs": [],
   "source": [
    "def run_model_assesment(estimator, window_size: int, session_length: int, n_users: int) -> type(None):\n",
    "    path_to_X_pkl = os.path.join(\n",
    "        PATH_TO_PICKLED,\n",
    "        f'X_sparse_{n_users}users_s{session_length}_w{window_size}.pkl'\n",
    "    )\n",
    "    path_to_y_pkl = os.path.join(\n",
    "        PATH_TO_PICKLED,\n",
    "        f'y_{n_users}users_s{session_length}_w{window_size}.pkl'\n",
    "    )\n",
    "    train_acc, test_acc, exec_time = model_assessment(estimator, path_to_X_pkl, path_to_y_pkl, skf)\n",
    "    print(\n",
    "        f'{window_size}\\t{session_length}\\t{n_users}\\t{train_acc:.3}\\t\\t{test_acc:.3}\\t\\t{exec_time:.3}'\n",
    "    )\n",
    "\n",
    "\n",
    "def __filtering_rule(x: typing.Tuple[int, int, int]) -> bool:\n",
    "    (window_size, session_length, _) = x\n",
    "    return window_size <= session_length"
   ]
  },
  {
   "cell_type": "code",
   "execution_count": 44,
   "metadata": {},
   "outputs": [
    {
     "name": "stdout",
     "output_type": "stream",
     "text": [
      "w_size\ts_len\tn_users\ttrain_acc\ttest_acc\texec_time\n",
      "5\t5\t10\t0.725\t\t0.738\t\t4.31\n",
      "7\t7\t10\t0.752\t\t0.763\t\t4.85\n",
      "10\t10\t10\t0.765\t\t0.784\t\t5.43\n",
      "5\t7\t10\t0.773\t\t0.788\t\t6.31\n",
      "7\t10\t10\t0.8\t\t0.807\t\t6.69\n",
      "10\t15\t10\t0.824\t\t0.842\t\t6.97\n",
      "5\t10\t10\t0.818\t\t0.829\t\t8.76\n",
      "7\t15\t10\t0.85\t\t0.856\t\t9.0\n",
      "5\t15\t10\t0.872\t\t0.877\t\t11.2\n",
      "CPU times: user 34.6 ms, sys: 46.5 ms, total: 81 ms\n",
      "Wall time: 11.3 s\n"
     ]
    }
   ],
   "source": [
    "%%time\n",
    "estimator = svm_grid_searcher2.best_estimator_\n",
    "\n",
    "print('w_size\\ts_len\\tn_users\\ttrain_acc\\ttest_acc\\texec_time')\n",
    "\n",
    "task_pool = mp.Pool(mp.cpu_count())\n",
    "for (window_size, session_length, n_users) in filter(\n",
    "    __filtering_rule, itertools.product((10, 7, 5), (15, 10, 7, 5), (10,))\n",
    "):\n",
    "    task_pool.apply_async(run_model_assesment, args=(estimator, window_size, session_length, n_users))\n",
    "task_pool.close()\n",
    "task_pool.join()"
   ]
  },
  {
   "cell_type": "markdown",
   "metadata": {},
   "source": [
    "**<font color='red'>Вопрос 5. </font> Посчитайте доли правильных ответов для `LinearSVC` с настроенным параметром `C` и выборки `X_sparse_10users_s15_w5`. Укажите доли правильных ответов на кросс-валидации и на отложенной выборке. Округлите каждое до 3 знаков после запятой и выведите через пробел.**"
   ]
  },
  {
   "cell_type": "code",
   "execution_count": 45,
   "metadata": {},
   "outputs": [
    {
     "name": "stdout",
     "output_type": "stream",
     "text": [
      "0.872 0.877\n"
     ]
    }
   ],
   "source": [
    "cvs, test_score, __time = model_assessment(\n",
    "    LinearSVC(C=best_C, random_state=17),\n",
    "    os.path.join(PATH_TO_PICKLED, 'X_sparse_10users_s15_w5.pkl'),\n",
    "    os.path.join(PATH_TO_PICKLED, 'y_10users_s15_w5.pkl'),\n",
    "    skf\n",
    ")\n",
    "\n",
    "__to_write = f'{cvs:.3} {test_score:.3}'\n",
    "write_answer(__to_write, 'week4_5.txt')\n",
    "print(__to_write)"
   ]
  },
  {
   "cell_type": "markdown",
   "metadata": {},
   "source": [
    "**Прокомментируйте полученные результаты. Сравните для 150 пользователей доли правильных ответов на кросс-валидации и оставленной выборке для сочетаний параметров (*session_length, window_size*): (5,5), (7,7) и (10,10). На среднем ноуте это может занять до часа – запаситесь терпением, это Data Science :) **\n",
    "\n",
    "**Сделайте вывод о том, как качество классификации зависит от длины сессии и ширины окна.**"
   ]
  },
  {
   "cell_type": "code",
   "execution_count": 46,
   "metadata": {},
   "outputs": [
    {
     "name": "stdout",
     "output_type": "stream",
     "text": [
      "w_size\ts_len\tn_users\ttrain_acc\ttest_acc\texec_time\n",
      "5\t5\t150\t0.41\t\t0.424\t\t3.76e+02\n",
      "7\t7\t150\t0.437\t\t0.455\t\t2.87e+02\n",
      "10\t10\t150\t0.46\t\t0.484\t\t2.33e+02\n",
      "CPU times: user 14min 56s, sys: 1.63 s, total: 14min 57s\n",
      "Wall time: 14min 55s\n"
     ]
    }
   ],
   "source": [
    "%%time\n",
    "estimator = LinearSVC(\n",
    "    C=svm_grid_searcher2.best_estimator_.C,\n",
    "    random_state=17\n",
    ")\n",
    "\n",
    "print('w_size\\ts_len\\tn_users\\ttrain_acc\\ttest_acc\\texec_time')\n",
    "\n",
    "for (window_size, session_length) in ((5, 5), (7, 7), (10, 10)):\n",
    "    run_model_assesment(estimator, window_size, session_length, 150)"
   ]
  },
  {
   "cell_type": "markdown",
   "metadata": {},
   "source": [
    "**<font color='red'>Вопрос 6. </font> Посчитайте доли правильных ответов для `LinearSVC` с настроенным параметром `C` и выборки `X_sparse_150users`. Укажите доли правильных ответов на кросс-валидации и на отложенной выборке. Округлите каждое до 3 знаков после запятой и выведите через пробел.**"
   ]
  },
  {
   "cell_type": "code",
   "execution_count": 47,
   "metadata": {},
   "outputs": [
    {
     "name": "stdout",
     "output_type": "stream",
     "text": [
      "0.46 0.484\n"
     ]
    }
   ],
   "source": [
    "__to_write = '0.46 0.484'\n",
    "write_answer(__to_write, 'week4_6.txt')\n",
    "print(__to_write)"
   ]
  },
  {
   "cell_type": "markdown",
   "metadata": {},
   "source": [
    "## Часть 3. Идентификация  конкретного пользователя и кривые обучения"
   ]
  },
  {
   "cell_type": "markdown",
   "metadata": {},
   "source": [
    "**Поскольку может разочаровать, что многоклассовая доля правильных ответов на выборке из 150 пользовалей невелика, порадуемся тому, что конкретного пользователя можно идентифицировать достаточно хорошо. **"
   ]
  },
  {
   "cell_type": "markdown",
   "metadata": {},
   "source": [
    "**Загрузим сериализованные ранее объекты *X_sparse_150users* и *y_150users*, соответствующие обучающей выборке для 150 пользователей с параметрами (*session_length, window_size*) = (10,10). Так же точно разобьем их на 70% и 30%.**"
   ]
  },
  {
   "cell_type": "code",
   "execution_count": 48,
   "metadata": {},
   "outputs": [],
   "source": [
    "with open(os.path.join(PATH_TO_PICKLED, 'X_sparse_150users.pkl'), 'rb') as X_sparse_150users_pkl:\n",
    "    X_sparse_150users = pickle.load(X_sparse_150users_pkl)\n",
    "with open(os.path.join(PATH_TO_PICKLED, 'y_150users.pkl'), 'rb') as y_150users_pkl:\n",
    "    y_150users = pickle.load(y_150users_pkl)"
   ]
  },
  {
   "cell_type": "code",
   "execution_count": 49,
   "metadata": {},
   "outputs": [],
   "source": [
    "X_train_150, X_valid_150, y_train_150, y_valid_150 = train_test_split(\n",
    "    X_sparse_150users, y_150users,\n",
    "    test_size=0.3,\n",
    "    random_state=17,\n",
    "    stratify=y_150users\n",
    ")"
   ]
  },
  {
   "cell_type": "markdown",
   "metadata": {},
   "source": [
    "**Обучите `LogisticRegressionCV` для одного значения параметра `C` (лучшего на кросс-валидации в 1 части, используйте точное значение, не на глаз). Теперь будем решать 150 задач \"Один-против-Всех\", поэтому укажите аргумент `multi_class`='ovr'. Как всегда, где возможно, указывайте `n_jobs=-1` и `random_state`=17.**"
   ]
  },
  {
   "cell_type": "code",
   "execution_count": 50,
   "metadata": {},
   "outputs": [
    {
     "name": "stdout",
     "output_type": "stream",
     "text": [
      "CPU times: user 12min 37s, sys: 4.62 s, total: 12min 42s\n",
      "Wall time: 3min 38s\n"
     ]
    },
    {
     "data": {
      "text/plain": [
       "LogisticRegressionCV(Cs=(3.7315789473684213,), class_weight=None,\n",
       "                     cv=StratifiedKFold(n_splits=3, random_state=17, shuffle=True),\n",
       "                     dual=False, fit_intercept=True, intercept_scaling=1.0,\n",
       "                     l1_ratios=None, max_iter=100, multi_class='ovr', n_jobs=-1,\n",
       "                     penalty='l2', random_state=17, refit=True, scoring=None,\n",
       "                     solver='lbfgs', tol=0.0001, verbose=0)"
      ]
     },
     "execution_count": 50,
     "metadata": {},
     "output_type": "execute_result"
    }
   ],
   "source": [
    "%%time\n",
    "logit_cv_150users = LogisticRegressionCV(\n",
    "    Cs=(logit_grid_searcher2.Cs_[10],),\n",
    "    random_state=17,\n",
    "    n_jobs=-1,\n",
    "    multi_class='ovr',\n",
    "    cv=skf\n",
    ")\n",
    "logit_cv_150users.fit(X_train_150, y_train_150)"
   ]
  },
  {
   "cell_type": "markdown",
   "metadata": {},
   "source": [
    "**Посмотрите на средние доли правильных ответов на кросс-валидации в задаче идентификации каждого пользователя по отдельности.**"
   ]
  },
  {
   "cell_type": "code",
   "execution_count": 51,
   "metadata": {
    "scrolled": false
   },
   "outputs": [
    {
     "name": "stdout",
     "output_type": "stream",
     "text": [
      "User 6\t\tCV score: 0.996\n",
      "User 13\t\tCV score: 0.996\n",
      "User 15\t\tCV score: 0.995\n",
      "User 16\t\tCV score: 0.992\n",
      "User 28\t\tCV score: 0.99\n",
      "User 31\t\tCV score: 0.994\n",
      "User 33\t\tCV score: 0.994\n",
      "User 39\t\tCV score: 0.986\n",
      "User 46\t\tCV score: 0.998\n",
      "User 49\t\tCV score: 0.995\n",
      "User 50\t\tCV score: 0.994\n",
      "User 53\t\tCV score: 0.994\n",
      "User 65\t\tCV score: 0.997\n",
      "User 66\t\tCV score: 0.995\n",
      "User 82\t\tCV score: 0.996\n",
      "User 85\t\tCV score: 0.996\n",
      "User 89\t\tCV score: 0.99\n",
      "User 92\t\tCV score: 0.994\n",
      "User 100\tCV score: 0.995\n",
      "User 102\tCV score: 0.991\n",
      "User 103\tCV score: 0.981\n",
      "User 105\tCV score: 0.997\n",
      "User 106\tCV score: 0.995\n",
      "User 118\tCV score: 0.991\n",
      "User 119\tCV score: 0.997\n",
      "User 120\tCV score: 0.994\n",
      "User 126\tCV score: 0.995\n",
      "User 127\tCV score: 0.992\n",
      "User 128\tCV score: 0.985\n",
      "User 138\tCV score: 0.997\n",
      "User 158\tCV score: 0.997\n",
      "User 160\tCV score: 0.997\n",
      "User 165\tCV score: 0.997\n",
      "User 172\tCV score: 0.997\n",
      "User 177\tCV score: 0.997\n",
      "User 203\tCV score: 0.998\n",
      "User 207\tCV score: 0.988\n",
      "User 223\tCV score: 0.996\n",
      "User 233\tCV score: 0.996\n",
      "User 235\tCV score: 0.997\n",
      "User 236\tCV score: 0.99\n",
      "User 237\tCV score: 0.989\n",
      "User 238\tCV score: 0.996\n",
      "User 240\tCV score: 0.996\n",
      "User 241\tCV score: 0.996\n",
      "User 242\tCV score: 0.995\n",
      "User 245\tCV score: 0.996\n",
      "User 246\tCV score: 0.997\n",
      "User 249\tCV score: 0.995\n",
      "User 252\tCV score: 0.996\n",
      "User 254\tCV score: 0.992\n",
      "User 256\tCV score: 0.996\n",
      "User 258\tCV score: 0.996\n",
      "User 259\tCV score: 0.995\n",
      "User 260\tCV score: 0.997\n",
      "User 261\tCV score: 0.99\n",
      "User 263\tCV score: 0.993\n",
      "User 264\tCV score: 0.997\n",
      "User 269\tCV score: 0.987\n",
      "User 270\tCV score: 0.99\n",
      "User 273\tCV score: 0.994\n",
      "User 287\tCV score: 0.99\n",
      "User 294\tCV score: 0.996\n",
      "User 298\tCV score: 0.991\n",
      "User 301\tCV score: 0.997\n",
      "User 308\tCV score: 0.996\n",
      "User 315\tCV score: 0.998\n",
      "User 318\tCV score: 0.996\n",
      "User 327\tCV score: 0.996\n",
      "User 332\tCV score: 0.997\n",
      "User 333\tCV score: 0.996\n",
      "User 339\tCV score: 0.997\n",
      "User 340\tCV score: 0.997\n",
      "User 342\tCV score: 0.992\n",
      "User 344\tCV score: 0.997\n",
      "User 351\tCV score: 0.992\n",
      "User 356\tCV score: 0.998\n",
      "User 361\tCV score: 0.996\n",
      "User 363\tCV score: 0.996\n",
      "User 411\tCV score: 0.991\n",
      "User 417\tCV score: 0.997\n",
      "User 425\tCV score: 0.994\n",
      "User 430\tCV score: 0.996\n",
      "User 435\tCV score: 0.997\n",
      "User 436\tCV score: 0.995\n",
      "User 440\tCV score: 0.997\n",
      "User 444\tCV score: 0.998\n",
      "User 475\tCV score: 0.989\n",
      "User 476\tCV score: 0.997\n",
      "User 486\tCV score: 0.995\n",
      "User 515\tCV score: 0.994\n",
      "User 533\tCV score: 0.994\n",
      "User 561\tCV score: 0.984\n",
      "User 563\tCV score: 0.997\n",
      "User 564\tCV score: 0.996\n",
      "User 568\tCV score: 0.992\n",
      "User 569\tCV score: 0.989\n",
      "User 570\tCV score: 0.998\n",
      "User 573\tCV score: 0.991\n",
      "User 575\tCV score: 0.99\n",
      "User 576\tCV score: 0.994\n",
      "User 580\tCV score: 0.987\n",
      "User 583\tCV score: 0.981\n",
      "User 584\tCV score: 0.981\n",
      "User 600\tCV score: 0.992\n",
      "User 603\tCV score: 0.996\n",
      "User 605\tCV score: 0.998\n",
      "User 640\tCV score: 0.997\n",
      "User 647\tCV score: 0.998\n",
      "User 653\tCV score: 0.997\n",
      "User 664\tCV score: 0.995\n",
      "User 665\tCV score: 0.997\n",
      "User 677\tCV score: 0.997\n",
      "User 692\tCV score: 0.997\n",
      "User 697\tCV score: 0.996\n",
      "User 705\tCV score: 0.996\n",
      "User 722\tCV score: 0.995\n",
      "User 740\tCV score: 0.997\n",
      "User 741\tCV score: 0.997\n",
      "User 756\tCV score: 0.996\n",
      "User 780\tCV score: 0.996\n",
      "User 784\tCV score: 0.997\n",
      "User 785\tCV score: 0.997\n",
      "User 797\tCV score: 0.996\n",
      "User 812\tCV score: 0.995\n",
      "User 844\tCV score: 0.997\n",
      "User 859\tCV score: 0.998\n",
      "User 868\tCV score: 0.997\n",
      "User 875\tCV score: 0.996\n",
      "User 932\tCV score: 0.991\n",
      "User 996\tCV score: 0.993\n",
      "User 1014\tCV score: 0.997\n",
      "User 1040\tCV score: 0.997\n",
      "User 1054\tCV score: 0.997\n",
      "User 1248\tCV score: 0.998\n",
      "User 1267\tCV score: 0.997\n",
      "User 1299\tCV score: 0.997\n",
      "User 1371\tCV score: 0.993\n",
      "User 1797\tCV score: 0.995\n",
      "User 1798\tCV score: 0.996\n",
      "User 1993\tCV score: 0.997\n",
      "User 2118\tCV score: 0.998\n",
      "User 2174\tCV score: 0.996\n",
      "User 2191\tCV score: 0.995\n",
      "User 2250\tCV score: 0.997\n",
      "User 2355\tCV score: 0.996\n",
      "User 2408\tCV score: 0.994\n",
      "User 2493\tCV score: 0.997\n",
      "User 2625\tCV score: 0.996\n",
      "User 2902\tCV score: 0.997\n"
     ]
    }
   ],
   "source": [
    "cv_scores_by_user = dict(map(lambda x: (x[0], x[1].mean()), logit_cv_150users.scores_.items()))\n",
    "_tab = '\\t'\n",
    "print(\n",
    "    '\\n'.join(\n",
    "        map(\n",
    "            lambda x: f'User {x[0]}\\t{_tab if x[0] < 100 else \"\"}CV score: {x[1]:.3}',\n",
    "            cv_scores_by_user.items()\n",
    "        )\n",
    "    )\n",
    ")"
   ]
  },
  {
   "cell_type": "markdown",
   "metadata": {},
   "source": [
    "**Результаты кажутся впечатляющими, но возможно, мы забываем про дисбаланс классов, и высокую долю правильных ответов можно получить константным прогнозом. Посчитайте для каждого пользователя разницу между долей правильных ответов на кросс-валидации (только что посчитанную с помощью `LogisticRegressionCV`) и долей меток в *y_train_150*, отличных от ID \n",
    " этого пользователя (именно такую долю правильных ответов можно получить, если классификатор всегда \"говорит\", что это не пользователь с номером $i$ в задаче классификации $i$-vs-All).**"
   ]
  },
  {
   "cell_type": "code",
   "execution_count": 52,
   "metadata": {},
   "outputs": [],
   "source": [
    "user_freqs = np.unique(y_train_150, return_counts=True)[1]\n",
    "constant_prediction_scores = 1 - user_freqs / user_freqs.sum()\n",
    "del user_freqs\n",
    "\n",
    "delta = np.fromiter(cv_scores_by_user.values(), dtype=float) - constant_prediction_scores"
   ]
  },
  {
   "cell_type": "code",
   "execution_count": 53,
   "metadata": {},
   "outputs": [
    {
     "name": "stdout",
     "output_type": "stream",
     "text": [
      "Better than default: 121/150\n"
     ]
    }
   ],
   "source": [
    "num_better_than_default = (delta > 0).sum()\n",
    "len_delta = len(delta)\n",
    "print(f'Better than default: {num_better_than_default}/{len_delta}')"
   ]
  },
  {
   "cell_type": "markdown",
   "metadata": {},
   "source": [
    "**<font color='red'>Вопрос 7. </font> Посчитайте долю пользователей, для которых логистическая регрессия на кросс-валидации дает прогноз лучше константного. Округлите до 3 знаков после запятой.**"
   ]
  },
  {
   "cell_type": "code",
   "execution_count": 54,
   "metadata": {},
   "outputs": [
    {
     "name": "stdout",
     "output_type": "stream",
     "text": [
      "0.807\n"
     ]
    }
   ],
   "source": [
    "__to_write = f'{num_better_than_default / len_delta:.3}'\n",
    "write_answer(__to_write, 'week4_7.txt')\n",
    "print(__to_write)"
   ]
  },
  {
   "cell_type": "markdown",
   "metadata": {},
   "source": [
    "**Дальше будем строить кривые обучения для конкретного пользователя, допустим, для 128-го. Составьте новый бинарный вектор на основе *y_150users*, его значения будут 1 или 0 в зависимости от того, равен ли ID-шник пользователя 128.**"
   ]
  },
  {
   "cell_type": "code",
   "execution_count": 55,
   "metadata": {},
   "outputs": [],
   "source": [
    "y_binary_128 = (y_150users == 128)"
   ]
  },
  {
   "cell_type": "code",
   "execution_count": 56,
   "metadata": {},
   "outputs": [],
   "source": [
    "def plot_learning_curve(val_train, val_test, train_sizes, xlabel='Training Set Size', ylabel='score'):\n",
    "    def plot_with_err(x, data, **kwargs):\n",
    "        mu, std = data.mean(1), data.std(1)\n",
    "        lines = plt.plot(x, mu, '-', **kwargs)\n",
    "        plt.fill_between(x, mu - std, mu + std, edgecolor='none', facecolor=lines[0].get_color(), alpha=0.2)\n",
    "    plot_with_err(train_sizes, val_train, label='train')\n",
    "    plot_with_err(train_sizes, val_test, label='valid')\n",
    "    plt.xlabel(xlabel); plt.ylabel(ylabel)\n",
    "    plt.legend(loc='lower right')"
   ]
  },
  {
   "cell_type": "markdown",
   "metadata": {},
   "source": [
    "**Посчитайте доли правильных ответов на кросс-валидации в задаче классификации \"user128-vs-All\" в зависимости от размера выборки. Не помешает посмотреть встроенную документацию для *learning_curve*.**"
   ]
  },
  {
   "cell_type": "code",
   "execution_count": 57,
   "metadata": {},
   "outputs": [
    {
     "name": "stdout",
     "output_type": "stream",
     "text": [
      "CPU times: user 862 ms, sys: 106 ms, total: 968 ms\n",
      "Wall time: 11 s\n"
     ]
    }
   ],
   "source": [
    "%%time\n",
    "train_sizes = np.linspace(0.25, 1, 20)\n",
    "estimator = svm_grid_searcher2.best_estimator_\n",
    "n_train, val_train, val_test = learning_curve(\n",
    "    estimator, X_sparse_150users, y_binary_128,\n",
    "    train_sizes=train_sizes,\n",
    "    cv=skf,\n",
    "    n_jobs=-1\n",
    ")"
   ]
  },
  {
   "cell_type": "code",
   "execution_count": 58,
   "metadata": {},
   "outputs": [
    {
     "data": {
      "image/png": "[encoded data removed]",
      "text/plain": [
       "<Figure size 432x288 with 1 Axes>"
      ]
     },
     "metadata": {
      "needs_background": "light"
     },
     "output_type": "display_data"
    }
   ],
   "source": [
    "plot_learning_curve(val_train, val_test, n_train, xlabel='train_size', ylabel='accuracy')"
   ]
  },
  {
   "cell_type": "markdown",
   "metadata": {},
   "source": [
    "**Сделайте выводы о том, помогут ли алгоритму новые размеченные данные при той же постановке задачи.**"
   ]
  },
  {
   "cell_type": "markdown",
   "metadata": {},
   "source": [
    "## Пути улучшения\n",
    "- конечно, можно проверить еще кучу алгоритмов, например, Xgboost, но в такой задаче очень маловероятно, что что-то справится лучше линейных методов\n",
    "- интересно проверить качество алгоритма на данных, где сессии выделялись не по количеству посещенных сайтов, а по времени, например, 5, 7, 10 и 15 минут. Отдельно стоит отметить данные нашего [соревнования](https://inclass.kaggle.com/c/catch-me-if-you-can-intruder-detection-through-webpage-session-tracking2) \n",
    "- опять же, если ресурсы позволяют, можно проверить, насколько хорошо можно решить задачу для 3000 пользователей\n",
    "\n",
    "\n",
    "На следующей неделе мы вспомним про линейные модели, обучаемые стохастическим градиентным спуском, и порадуемся тому, насколько быстрее они работают. Также сделаем первые (или не первые) посылки в [соревновании](https://inclass.kaggle.com/c/catch-me-if-you-can-intruder-detection-through-webpage-session-tracking2) Kaggle Inclass."
   ]
  }
 ],
 "metadata": {
  "anaconda-cloud": {},
  "kernelspec": {
   "display_name": "Python 3",
   "language": "python",
   "name": "python3"
  },
  "language_info": {
   "codemirror_mode": {
    "name": "ipython",
    "version": 3
   },
   "file_extension": ".py",
   "mimetype": "text/x-python",
   "name": "python",
   "nbconvert_exporter": "python",
   "pygments_lexer": "ipython3",
   "version": "3.7.6"
  }
 },
 "nbformat": 4,
 "nbformat_minor": 1
}
